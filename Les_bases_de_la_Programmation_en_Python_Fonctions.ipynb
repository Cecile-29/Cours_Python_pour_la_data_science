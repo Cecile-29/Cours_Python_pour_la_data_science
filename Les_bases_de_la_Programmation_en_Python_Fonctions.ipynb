{
 "cells": [
  {
   "cell_type": "code",
   "execution_count": 1,
   "id": "b14e6602-8dcb-4418-8452-eed6065dcf66",
   "metadata": {},
   "outputs": [
    {
     "data": {
      "text/plain": [
       "[125000,\n",
       " 135000,\n",
       " 145000,\n",
       " 155000,\n",
       " 165000,\n",
       " 175000,\n",
       " 185000,\n",
       " 195000,\n",
       " 205000,\n",
       " 215000,\n",
       " 225000,\n",
       " 235000,\n",
       " 245000,\n",
       " 255000,\n",
       " 265000,\n",
       " 275000,\n",
       " 285000,\n",
       " 295000,\n",
       " 305000,\n",
       " 315000,\n",
       " 325000,\n",
       " 335000,\n",
       " 345000,\n",
       " 355000,\n",
       " 365000,\n",
       " 375000,\n",
       " 385000,\n",
       " 395000,\n",
       " 405000,\n",
       " 415000,\n",
       " 425000,\n",
       " 435000,\n",
       " 445000,\n",
       " 455000,\n",
       " 465000,\n",
       " 475000,\n",
       " 485000,\n",
       " 495000,\n",
       " 505000,\n",
       " 515000,\n",
       " 525000,\n",
       " 535000,\n",
       " 545000,\n",
       " 555000,\n",
       " 565000,\n",
       " 575000,\n",
       " 585000,\n",
       " 595000,\n",
       " 605000,\n",
       " 615000,\n",
       " 625000,\n",
       " 635000,\n",
       " 645000,\n",
       " 655000,\n",
       " 665000,\n",
       " 675000,\n",
       " 685000,\n",
       " 695000]"
      ]
     },
     "execution_count": 1,
     "metadata": {},
     "output_type": "execute_result"
    }
   ],
   "source": [
    "## utilisation de la ft range avec utilisation d'une liste des 58 maisons, elle attaend une valeur de départ, de fin et un pas\n",
    "# en python trois les listes ne se remplissent pas automatiquement avecla ft range il faut utiliser la fonction list\n",
    "\n",
    "prix_de_58_maisons=list(range(125000, 700000, 10000))\n",
    "prix_de_58_maisons"
   ]
  },
  {
   "cell_type": "code",
   "execution_count": 2,
   "id": "002196fc-e2ba-42b0-8367-8b31f43a5995",
   "metadata": {},
   "outputs": [
    {
     "name": "stdout",
     "output_type": "stream",
     "text": [
      "Le nombre de maison(s) à un prix compris entre 250 000 euros et 400 000 euros est de :  15\n"
     ]
    }
   ],
   "source": [
    "## combien de maisons qui ont un prix compris entre 250 000 et 400 000 euros.\n",
    "\n",
    "nombre_maisons=0\n",
    "for prix in prix_de_58_maisons:\n",
    "    if prix >= 250000 and prix <= 400000:\n",
    "    # if (prix >= 250000) and (prix <= 400000):\n",
    "        nombre_maisons=nombre_maisons+1\n",
    "print(\"Le nombre de maison(s) à un prix compris entre 250 000 euros et 400 000 euros est de :  %d\" % (nombre_maisons))"
   ]
  },
  {
   "cell_type": "code",
   "execution_count": 3,
   "id": "569a13af-a13c-42dc-97cf-ba2f0b03c901",
   "metadata": {},
   "outputs": [
    {
     "name": "stdout",
     "output_type": "stream",
     "text": [
      "Le nombre de maison(s) qui ont un prix qui n’est pas supérieur à 600000 euros est de :  48\n"
     ]
    }
   ],
   "source": [
    "## Combien de maisons ont un prix qui n’est pas supérieur à 600000 euros ?\n",
    "\n",
    "nombre_maisons=0\n",
    "for prix in prix_de_58_maisons:\n",
    "    # if prix < 600000: avec not ligne en dessous\n",
    "    if not (prix > 600000):\n",
    "        nombre_maisons=nombre_maisons+1\n",
    "print(\"Le nombre de maison(s) qui ont un prix qui n’est pas supérieur à 600000 euros est de :  %d\" % (nombre_maisons))"
   ]
  },
  {
   "cell_type": "code",
   "execution_count": 4,
   "id": "371b25d1-d410-4c1e-a946-b2bd903105ef",
   "metadata": {},
   "outputs": [
    {
     "name": "stdout",
     "output_type": "stream",
     "text": [
      "Le nombre de maison(s) qui ont un prix inférieur à 150000 euros ou supérieur à 650000 euros est de :  8\n"
     ]
    }
   ],
   "source": [
    "## Combien de maisons ont un prix inférieur à 150000 euros ou supérieur à 650000 euros ?\n",
    "\n",
    "nombre_maisons=0\n",
    "for prix in prix_de_58_maisons:\n",
    "    if (prix < 150000) or (prix > 650000):\n",
    "        nombre_maisons=nombre_maisons+1\n",
    "print(\"Le nombre de maison(s) qui ont un prix inférieur à 150000 euros ou supérieur à 650000 euros est de :  %d\" % (nombre_maisons))\n"
   ]
  },
  {
   "cell_type": "code",
   "execution_count": 5,
   "id": "b42ce5a9-9a43-4ebc-9fe0-3001303685f5",
   "metadata": {},
   "outputs": [],
   "source": [
    "# Fonction en python\n",
    "# def ma_fonction(argument1, argument2, ...):\n",
    "# code\n",
    "# code\n",
    "# résultat = code\n",
    "# return result"
   ]
  },
  {
   "cell_type": "code",
   "execution_count": 6,
   "id": "2ae5fd94-62d2-4998-9f7e-496de3ca42ab",
   "metadata": {},
   "outputs": [],
   "source": [
    "def nombre_de_maisons_avec_prix_superieur_a_300000_euros(une_liste):\n",
    "    nombre_maisons=0\n",
    "    for prix in une_liste:\n",
    "        if prix >= 300000:\n",
    "            nombre_maisons=nombre_maisons+1\n",
    "    return nombre_maisons"
   ]
  },
  {
   "cell_type": "code",
   "execution_count": 9,
   "id": "acce14ea-c46e-47e9-94a4-ed2db3e42476",
   "metadata": {},
   "outputs": [
    {
     "data": {
      "text/plain": [
       "40"
      ]
     },
     "execution_count": 9,
     "metadata": {},
     "output_type": "execute_result"
    }
   ],
   "source": [
    "nombre_maisons=nombre_de_maisons_avec_prix_superieur_a_300000_euros(prix_de_58_maisons)\n",
    "nombre_maisons"
   ]
  },
  {
   "cell_type": "code",
   "execution_count": 26,
   "id": "0fce1186-9012-4d31-bf23-be6fee4ceeb6",
   "metadata": {},
   "outputs": [],
   "source": [
    "def nombre_de_maisons_avec_prix_superieur_a_300000_euros(une_liste):\n",
    "    nombre_maisons=0\n",
    "    nombre_maisons_total=0\n",
    "    for prix in une_liste:\n",
    "        if prix >= 300000:\n",
    "            nombre_maisons=nombre_maisons+1\n",
    "        nombre_maisons_total=nombre_maisons_total+1\n",
    "    return (nombre_maisons,nombre_maisons_total)"
   ]
  },
  {
   "cell_type": "code",
   "execution_count": 27,
   "id": "2f555867-b2f1-426c-98f5-7ec7a915950a",
   "metadata": {},
   "outputs": [],
   "source": [
    "nombre_maisons,nombre_maisons_total=nombre_de_maisons_avec_prix_superieur_a_300000_euros(prix_de_58_maisons)"
   ]
  },
  {
   "cell_type": "code",
   "execution_count": 28,
   "id": "66aa4d4b-3593-4379-8125-f9bc86661c56",
   "metadata": {},
   "outputs": [
    {
     "name": "stdout",
     "output_type": "stream",
     "text": [
      "40\n",
      "58\n"
     ]
    }
   ],
   "source": [
    "print(nombre_maisons)\n",
    "print(nombre_maisons_total)"
   ]
  },
  {
   "cell_type": "code",
   "execution_count": null,
   "id": "54e057f4-a941-4f3f-94ab-c938aa0ded7c",
   "metadata": {},
   "outputs": [],
   "source": []
  }
 ],
 "metadata": {
  "kernelspec": {
   "display_name": "Python 3 (ipykernel)",
   "language": "python",
   "name": "python3"
  },
  "language_info": {
   "codemirror_mode": {
    "name": "ipython",
    "version": 3
   },
   "file_extension": ".py",
   "mimetype": "text/x-python",
   "name": "python",
   "nbconvert_exporter": "python",
   "pygments_lexer": "ipython3",
   "version": "3.12.4"
  }
 },
 "nbformat": 4,
 "nbformat_minor": 5
}
