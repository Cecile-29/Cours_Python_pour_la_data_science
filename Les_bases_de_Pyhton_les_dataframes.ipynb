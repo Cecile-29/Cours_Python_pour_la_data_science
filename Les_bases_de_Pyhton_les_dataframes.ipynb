{
 "cells": [
  {
   "cell_type": "code",
   "execution_count": 2,
   "id": "c25b58d1-c11e-45ce-887e-03a8478863b9",
   "metadata": {},
   "outputs": [],
   "source": [
    "# pour avoir accès à la structure de donneés dataframes et aux méthodes et fonctionnalités de la bibliothèque pandas\n",
    "import pandas"
   ]
  },
  {
   "cell_type": "code",
   "execution_count": null,
   "id": "dadb15f0-7e67-44bd-98d8-73429bffc84e",
   "metadata": {},
   "outputs": [],
   "source": [
    "# création d'une variable serie\n",
    "serie = pandas.Series([11,15])"
   ]
  }
 ],
 "metadata": {
  "kernelspec": {
   "display_name": "Python 3 (ipykernel)",
   "language": "python",
   "name": "python3"
  },
  "language_info": {
   "codemirror_mode": {
    "name": "ipython",
    "version": 3
   },
   "file_extension": ".py",
   "mimetype": "text/x-python",
   "name": "python",
   "nbconvert_exporter": "python",
   "pygments_lexer": "ipython3",
   "version": "3.12.4"
  }
 },
 "nbformat": 4,
 "nbformat_minor": 5
}
