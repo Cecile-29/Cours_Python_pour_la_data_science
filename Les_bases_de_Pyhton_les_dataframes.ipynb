{
 "cells": [
  {
   "cell_type": "code",
   "execution_count": 1,
   "id": "c25b58d1-c11e-45ce-887e-03a8478863b9",
   "metadata": {},
   "outputs": [],
   "source": [
    "# pour avoir accès à la structure de donneés dataframes et aux méthodes et fonctionnalités de la bibliothèque pandas\n",
    "import pandas"
   ]
  },
  {
   "cell_type": "code",
   "execution_count": 2,
   "id": "dadb15f0-7e67-44bd-98d8-73429bffc84e",
   "metadata": {},
   "outputs": [
    {
     "name": "stdout",
     "output_type": "stream",
     "text": [
      "0    11\n",
      "1    15\n",
      "2    13\n",
      "3    12\n",
      "4    12\n",
      "5    15\n",
      "6    16\n",
      "7    14\n",
      "dtype: int64\n"
     ]
    }
   ],
   "source": [
    "# création d'une variable serie\n",
    "serie = pandas.Series([11,15,13,12,12,15,16,14,])\n",
    "print(serie)"
   ]
  },
  {
   "cell_type": "code",
   "execution_count": 5,
   "id": "10d1ec9a",
   "metadata": {},
   "outputs": [
    {
     "name": "stdout",
     "output_type": "stream",
     "text": [
      "Fifi         11\n",
      "Jade         15\n",
      "Julie        13\n",
      "Chloe        12\n",
      "Nico         12\n",
      "Fafa         15\n",
      "Sartorius    16\n",
      "Jacques      14\n",
      "dtype: int64\n"
     ]
    }
   ],
   "source": [
    "# création d'une variable serie avec la propriété de type pandas.Series, l'index de \n",
    "serie = pandas.Series([11,15,13,12,12,15,16,14], index=[\"Fifi\",\"Jade\",\"Julie\",\"Chloe\",\"Nico\",\"Fafa\",\"Sartorius\",\"Jacques\"])\n",
    "print(serie)"
   ]
  },
  {
   "cell_type": "code",
   "execution_count": 8,
   "id": "76617c24",
   "metadata": {},
   "outputs": [
    {
     "data": {
      "text/plain": [
       "\" La méthode describe() en Pandas est utilisée pour générer des statistiques descriptives d'une série (ou d'un DataFrame). Lorsqu'elle est appliquée à une série, elle fournit un résumé des statistiques de base pour les données numériques.\\n\\nVoici les principales statistiques fournies par describe() pour une série numérique :\\n\\n    Count : Le nombre total d'éléments non nuls dans la série.\\n    Mean : La moyenne des valeurs de la série.\\n    Std (Standard Deviation) : L'écart-type, qui mesure la dispersion des valeurs par rapport à la moyenne.\\n    Min : La valeur minimale de la série.\\n    25% (1er quartile) : La valeur au-dessous de laquelle se trouvent 25% des données.\\n    50% (médiane ou 2ème quartile) : La valeur médiane, au-dessous de laquelle se trouvent 50% des données.\\n    75% (3ème quartile) : La valeur au-dessous de laquelle se trouvent 75% des données.\\n    Max : La valeur maximale de la série. \""
      ]
     },
     "execution_count": 8,
     "metadata": {},
     "output_type": "execute_result"
    }
   ],
   "source": [
    "\n",
    "''' La méthode describe() en Pandas est utilisée pour générer des statistiques descriptives d'une série (ou d'un DataFrame). Lorsqu'elle est appliquée à une série, elle fournit un résumé des statistiques de base pour les données numériques.\n",
    "\n",
    "Voici les principales statistiques fournies par describe() pour une série numérique :\n",
    "\n",
    "    Count : Le nombre total d'éléments non nuls dans la série.\n",
    "    Mean : La moyenne des valeurs de la série.\n",
    "    Std (Standard Deviation) : L'écart-type, qui mesure la dispersion des valeurs par rapport à la moyenne.\n",
    "    Min : La valeur minimale de la série.\n",
    "    25% (1er quartile) : La valeur au-dessous de laquelle se trouvent 25% des données.\n",
    "    50% (médiane ou 2ème quartile) : La valeur médiane, au-dessous de laquelle se trouvent 50% des données.\n",
    "    75% (3ème quartile) : La valeur au-dessous de laquelle se trouvent 75% des données.\n",
    "    Max : La valeur maximale de la série. '''"
   ]
  },
  {
   "cell_type": "code",
   "execution_count": 9,
   "id": "721775b7",
   "metadata": {},
   "outputs": [
    {
     "data": {
      "text/plain": [
       "count     8.000000\n",
       "mean     13.500000\n",
       "std       1.772811\n",
       "min      11.000000\n",
       "25%      12.000000\n",
       "50%      13.500000\n",
       "75%      15.000000\n",
       "max      16.000000\n",
       "dtype: float64"
      ]
     },
     "execution_count": 9,
     "metadata": {},
     "output_type": "execute_result"
    }
   ],
   "source": [
    "serie.describe()"
   ]
  },
  {
   "cell_type": "code",
   "execution_count": 10,
   "id": "e8d3572d",
   "metadata": {},
   "outputs": [
    {
     "data": {
      "text/plain": [
       "13"
      ]
     },
     "execution_count": 10,
     "metadata": {},
     "output_type": "execute_result"
    }
   ],
   "source": [
    "# crochet pour accéder à un l'\n",
    "serie[\"Julie\"]"
   ]
  },
  {
   "cell_type": "code",
   "execution_count": 11,
   "id": "453eeed5",
   "metadata": {},
   "outputs": [
    {
     "name": "stderr",
     "output_type": "stream",
     "text": [
      "C:\\Users\\Cécile\\AppData\\Local\\Temp\\ipykernel_17124\\374135576.py:1: FutureWarning: Series.__getitem__ treating keys as positions is deprecated. In a future version, integer keys will always be treated as labels (consistent with DataFrame behavior). To access a value by position, use `ser.iloc[pos]`\n",
      "  serie[3]\n"
     ]
    },
    {
     "data": {
      "text/plain": [
       "12"
      ]
     },
     "execution_count": 11,
     "metadata": {},
     "output_type": "execute_result"
    }
   ],
   "source": [
    "# crochet pour accéder à un élément par le nom de l'index de la fonction serie\n",
    "serie[2]"
   ]
  },
  {
   "cell_type": "code",
   "execution_count": null,
   "id": "0e58747e",
   "metadata": {},
   "outputs": [],
   "source": []
  }
 ],
 "metadata": {
  "kernelspec": {
   "display_name": "Python 3 (ipykernel)",
   "language": "python",
   "name": "python3"
  },
  "language_info": {
   "codemirror_mode": {
    "name": "ipython",
    "version": 3
   },
   "file_extension": ".py",
   "mimetype": "text/x-python",
   "name": "python",
   "nbconvert_exporter": "python",
   "pygments_lexer": "ipython3",
   "version": "3.12.4"
  }
 },
 "nbformat": 4,
 "nbformat_minor": 5
}
