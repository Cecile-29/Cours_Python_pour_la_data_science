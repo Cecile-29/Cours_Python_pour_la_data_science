{
 "cells": [
  {
   "cell_type": "code",
   "execution_count": null,
   "id": "15dc32c6-ba27-4a6c-a9fe-8f6a0bafbeeb",
   "metadata": {},
   "outputs": [],
   "source": [
    "# opérateur relationel\n",
    "# premier opérateur de comparaison 1 == 1 égal tout seul est un opérateur d'affectation comme pour les variables"
   ]
  },
  {
   "cell_type": "code",
   "execution_count": 1,
   "id": "f7bf54ea-6e6b-4203-8543-cf0e34ca6a3e",
   "metadata": {},
   "outputs": [
    {
     "data": {
      "text/plain": [
       "False"
      ]
     },
     "execution_count": 1,
     "metadata": {},
     "output_type": "execute_result"
    }
   ],
   "source": [
    "1==2"
   ]
  },
  {
   "cell_type": "code",
   "execution_count": 2,
   "id": "1b54afd3-2d32-441b-9b37-32eb277c1f48",
   "metadata": {},
   "outputs": [
    {
     "data": {
      "text/plain": [
       "True"
      ]
     },
     "execution_count": 2,
     "metadata": {},
     "output_type": "execute_result"
    }
   ],
   "source": [
    "# deuxième opérateur de comparaison : != veut est différent\n",
    "1 != 2"
   ]
  },
  {
   "cell_type": "code",
   "execution_count": 3,
   "id": "d1bca6ab-f118-4560-9dfb-fae2a950ad9c",
   "metadata": {},
   "outputs": [
    {
     "data": {
      "text/plain": [
       "True"
      ]
     },
     "execution_count": 3,
     "metadata": {},
     "output_type": "execute_result"
    }
   ],
   "source": [
    "# troisième opérateur de comparaison : >\n",
    "2 > 1"
   ]
  },
  {
   "cell_type": "code",
   "execution_count": 4,
   "id": "c145e01c-c013-44e6-b058-b452ba64f576",
   "metadata": {},
   "outputs": [
    {
     "data": {
      "text/plain": [
       "True"
      ]
     },
     "execution_count": 4,
     "metadata": {},
     "output_type": "execute_result"
    }
   ],
   "source": [
    "1 >= 1"
   ]
  },
  {
   "cell_type": "code",
   "execution_count": 5,
   "id": "f2e41757-f0a0-45e3-8fe7-2a6a67736a06",
   "metadata": {},
   "outputs": [
    {
     "data": {
      "text/plain": [
       "True"
      ]
     },
     "execution_count": 5,
     "metadata": {},
     "output_type": "execute_result"
    }
   ],
   "source": [
    "5 >= 1"
   ]
  },
  {
   "cell_type": "code",
   "execution_count": null,
   "id": "ede96fc6-dd9a-437a-8d3f-7de079b05bd7",
   "metadata": {},
   "outputs": [],
   "source": [
    "a = 1"
   ]
  },
  {
   "cell_type": "code",
   "execution_count": 6,
   "id": "7bd5d82a-02e5-4c67-b142-9f9b68707537",
   "metadata": {},
   "outputs": [
    {
     "data": {
      "text/plain": [
       "True"
      ]
     },
     "execution_count": 6,
     "metadata": {},
     "output_type": "execute_result"
    }
   ],
   "source": [
    "# premier opérateur logique : and\n",
    "(3 == 3) and (4==4)"
   ]
  },
  {
   "cell_type": "code",
   "execution_count": 7,
   "id": "d01993bd-abc6-4629-94c0-96d1961deeb4",
   "metadata": {},
   "outputs": [
    {
     "data": {
      "text/plain": [
       "False"
      ]
     },
     "execution_count": 7,
     "metadata": {},
     "output_type": "execute_result"
    }
   ],
   "source": [
    "(3==5) and (4==4)"
   ]
  },
  {
   "cell_type": "code",
   "execution_count": 9,
   "id": "855f4d71-29c2-4a93-9125-d22010ca792b",
   "metadata": {},
   "outputs": [
    {
     "data": {
      "text/plain": [
       "True"
      ]
     },
     "execution_count": 9,
     "metadata": {},
     "output_type": "execute_result"
    }
   ],
   "source": [
    "# deuxième opérateur logique : or --> différence avec and juste une seule condition doit être vrai pour être à True\n",
    "(3==5) or (4==4)"
   ]
  },
  {
   "cell_type": "code",
   "execution_count": 11,
   "id": "9c561860-849e-4084-aded-9bef1ab512d3",
   "metadata": {},
   "outputs": [
    {
     "data": {
      "text/plain": [
       "False"
      ]
     },
     "execution_count": 11,
     "metadata": {},
     "output_type": "execute_result"
    }
   ],
   "source": [
    "(3!=3) or (4==5)"
   ]
  },
  {
   "cell_type": "code",
   "execution_count": 12,
   "id": "23e1a4f9-4e3d-4618-b151-242a4bc30ded",
   "metadata": {},
   "outputs": [
    {
     "data": {
      "text/plain": [
       "True"
      ]
     },
     "execution_count": 12,
     "metadata": {},
     "output_type": "execute_result"
    }
   ],
   "source": [
    "# troisième opérateur logique : not --> envoie le contraire de notre comparaison\n",
    "not(3!=3) or (4==5)"
   ]
  },
  {
   "cell_type": "code",
   "execution_count": 17,
   "id": "a8ddd29a-5b2e-4859-b53b-b575db13cc28",
   "metadata": {},
   "outputs": [],
   "source": [
    "# instruction de condition en python\n",
    "# if condition: (est respectée)\n",
    "# action 1\n",
    "# else:\n",
    "# action 2"
   ]
  },
  {
   "cell_type": "code",
   "execution_count": 18,
   "id": "2cd9b73f-0e26-47ec-89e1-98835c264005",
   "metadata": {},
   "outputs": [],
   "source": [
    "ma_variable1=2\n",
    "ma_variable2=6\n",
    "ma_variable3=\"hello\""
   ]
  },
  {
   "cell_type": "code",
   "execution_count": 20,
   "id": "18e0ca7a-7d86-4c91-a7c7-e0d376c1668e",
   "metadata": {},
   "outputs": [
    {
     "name": "stdout",
     "output_type": "stream",
     "text": [
      "Ta comparaison est vraie !\n"
     ]
    }
   ],
   "source": [
    "if (ma_variable1 == 2) and (ma_variable3 == \"hello\"):\n",
    "    print(\"Ta comparaison est vraie !\")\n",
    "else:\n",
    "    print(\"Ta comparaison est fausse !\")"
   ]
  },
  {
   "cell_type": "code",
   "execution_count": 22,
   "id": "40499e6c-6d2f-4e14-8dd9-c41745d76b12",
   "metadata": {},
   "outputs": [
    {
     "ename": "IndentationError",
     "evalue": "expected an indented block after 'else' statement on line 3 (4117210210.py, line 4)",
     "output_type": "error",
     "traceback": [
      "\u001b[1;36m  Cell \u001b[1;32mIn[22], line 4\u001b[1;36m\u001b[0m\n\u001b[1;33m    print(\"Ta comparaison est fausse !\")\u001b[0m\n\u001b[1;37m    ^\u001b[0m\n\u001b[1;31mIndentationError\u001b[0m\u001b[1;31m:\u001b[0m expected an indented block after 'else' statement on line 3\n"
     ]
    }
   ],
   "source": [
    "if (ma_variable1 == 2) and (ma_variable3 == \"hello\"):\n",
    "    print(\"Ta comparaison est vraie !\")\n",
    "else:\n",
    "print(\"Ta comparaison est fausse !\")\n",
    "\n",
    "## erreur indentation"
   ]
  },
  {
   "cell_type": "code",
   "execution_count": 25,
   "id": "3c25c635-e8da-4e53-8033-0dfaae757d7b",
   "metadata": {},
   "outputs": [
    {
     "name": "stdout",
     "output_type": "stream",
     "text": [
      "Ta comparaison est vraie !\n"
     ]
    }
   ],
   "source": [
    "if (ma_variable1 > ma_variable2) or (ma_variable3 == \"hello\"):\n",
    "    print (\"Ta comparaison est vraie !\")\n",
    "else:\n",
    "    print (\"Ta comparaison est fausse !\")\n"
   ]
  },
  {
   "cell_type": "code",
   "execution_count": 26,
   "id": "5f1f5f3c-f5b3-4c82-b0bf-757afdb77b7c",
   "metadata": {},
   "outputs": [
    {
     "name": "stdout",
     "output_type": "stream",
     "text": [
      "Ta comparaison est fausse !\n"
     ]
    }
   ],
   "source": [
    "if (ma_variable1 > ma_variable2) and (ma_variable3 == \"hello\"):\n",
    "    print (\"Ta comparaison est vraie !\")\n",
    "else:\n",
    "    print (\"Ta comparaison est fausse !\")\n"
   ]
  },
  {
   "cell_type": "code",
   "execution_count": 27,
   "id": "1b31f6f3-a16d-4031-bc2f-12c99fea7044",
   "metadata": {},
   "outputs": [],
   "source": [
    "# boucle for\n",
    "# for mavaleur in liste:\n",
    "# bloc d'actions"
   ]
  },
  {
   "cell_type": "code",
   "execution_count": 35,
   "id": "bdcf472e-3e00-4e45-b82c-d69dfb167082",
   "metadata": {},
   "outputs": [],
   "source": [
    "ma_liste=[1,2,3,4,5,6,7,8,9,10]"
   ]
  },
  {
   "cell_type": "code",
   "execution_count": 29,
   "id": "15d70f07-3ad1-4397-84d5-5988027c3774",
   "metadata": {},
   "outputs": [
    {
     "name": "stdout",
     "output_type": "stream",
     "text": [
      "2\n",
      "---\n",
      "4\n",
      "---\n",
      "6\n",
      "---\n",
      "8\n",
      "---\n",
      "10\n",
      "---\n",
      "12\n",
      "---\n",
      "14\n",
      "---\n",
      "12\n",
      "---\n",
      "16\n",
      "---\n",
      "18\n",
      "---\n",
      "20\n",
      "---\n"
     ]
    }
   ],
   "source": [
    "for ma_valeur in ma_liste:\n",
    "    print(ma_valeur*2)\n",
    "    print(\"---\")"
   ]
  },
  {
   "cell_type": "code",
   "execution_count": 36,
   "id": "2124789b-4591-48ae-8d8b-188f39c430bd",
   "metadata": {},
   "outputs": [
    {
     "name": "stdout",
     "output_type": "stream",
     "text": [
      "la multiplication de 2 * 1 = 2\n",
      "la multiplication de 2 * 2 = 4\n",
      "la multiplication de 2 * 3 = 6\n",
      "la multiplication de 2 * 4 = 8\n",
      "la multiplication de 2 * 5 = 10\n",
      "la multiplication de 2 * 6 = 12\n",
      "la multiplication de 2 * 7 = 14\n",
      "la multiplication de 2 * 8 = 16\n",
      "la multiplication de 2 * 9 = 18\n",
      "la multiplication de 2 * 10 = 20\n"
     ]
    }
   ],
   "source": [
    "for ma_valeur in ma_liste:\n",
    "    ma_nouvelle_variable=ma_valeur*2\n",
    "    print(\"la multiplication de 2 * %d = %d\" % (ma_valeur, ma_nouvelle_variable))\n",
    "\n",
    "# %d --> veut dire en python affiche la valeur d'un entier\n",
    "# %s --> veut dire en python affiche la valeur d'une string\n",
    "# %f --> veut dire en python affiche la valeur d'un float\n",
    "\n",
    "# en lui envoyant le tuple après %d prend la valeur de la première et deuxième variables "
   ]
  },
  {
   "cell_type": "code",
   "execution_count": 31,
   "id": "35899856-7e36-48ac-9dbe-ecb558c92372",
   "metadata": {},
   "outputs": [],
   "source": [
    "# boucle while\n",
    "# while condition:\n",
    "# bloc d'actions\n",
    "# au moins une des condition doit être vraie sinon la boucle while tourne à l'infini"
   ]
  },
  {
   "cell_type": "code",
   "execution_count": 37,
   "id": "84bf4269-b323-425b-a411-1bae9c4fbbca",
   "metadata": {},
   "outputs": [
    {
     "name": "stdout",
     "output_type": "stream",
     "text": [
      "Mon compteur = 0\n",
      "Ma valeur = 1 \n",
      "Mon compteur = 1\n",
      "Ma valeur = 2 \n",
      "Mon compteur = 2\n",
      "Ma valeur = 3 \n",
      "Mon compteur = 3\n",
      "Ma valeur = 4 \n",
      "Mon compteur = 4\n",
      "Ma valeur = 5 \n",
      "Mon compteur = 5\n",
      "Ma valeur = 6 \n",
      "Mon compteur = 6\n",
      "Ma valeur = 7 \n",
      "Mon compteur = 7\n",
      "Ma valeur = 8 \n",
      "Mon compteur = 8\n",
      "Ma valeur = 9 \n",
      "Mon compteur = 9\n",
      "Ma valeur = 10 \n"
     ]
    }
   ],
   "source": [
    "compteur=0\n",
    "while (compteur < 10):\n",
    "    # on a besoin des deux %, le premier pour spécifier la nature de la variable le deuxième pour l'afficher \n",
    "    print(\"Mon compteur = %d\" % (compteur))\n",
    "    # ma_liste=[1,2,3,4,5,6,7,6,8,9,10]\n",
    "    print(\"Ma valeur = %d \" % (ma_liste[compteur]))\n",
    "    compteur=compteur+1\n",
    "\n",
    "## bref python tutor"
   ]
  },
  {
   "cell_type": "code",
   "execution_count": 60,
   "id": "958086ea-0729-4180-a7c0-e6b2ff43dafd",
   "metadata": {},
   "outputs": [
    {
     "name": "stdout",
     "output_type": "stream",
     "text": [
      "Mon compteur = 0\n",
      "Ma valeur = 2 \n",
      "Mon compteur = 2\n",
      "Ma valeur = 4 \n",
      "Mon compteur = 4\n",
      "Ma valeur = 6 \n",
      "Mon compteur = 6\n",
      "Ma valeur = 8 \n",
      "Mon compteur = 8\n",
      "Ma valeur = 10 \n"
     ]
    }
   ],
   "source": [
    "compteur=0\n",
    "while (compteur < 10):\n",
    "    \n",
    "    if ma_liste[::2]:\n",
    "        print(\"Mon compteur = %d\" % (compteur))\n",
    "    # ma_liste=[1,2,3,4,5,6,7,6,8,9,10]\n",
    "        print(\"Ma valeur = %d \" % (ma_liste[compteur+1]))\n",
    "        compteur=compteur+2\n",
    "   "
   ]
  },
  {
   "cell_type": "code",
   "execution_count": 62,
   "id": "fd42d414-dab5-4b11-bad6-09b80a2c30e9",
   "metadata": {},
   "outputs": [
    {
     "name": "stdout",
     "output_type": "stream",
     "text": [
      "Mon compteur = 1\n",
      "Ma valeur = 2 \n",
      "Mon compteur = 3\n",
      "Ma valeur = 4 \n",
      "Mon compteur = 5\n",
      "Ma valeur = 6 \n",
      "Mon compteur = 7\n",
      "Ma valeur = 8 \n",
      "Mon compteur = 9\n",
      "Ma valeur = 10 \n"
     ]
    }
   ],
   "source": [
    "compteur=0\n",
    "while (compteur < 10):\n",
    "    \n",
    "    if ma_liste[compteur] % 2 == 0 :\n",
    "        ##\n",
    "        print(\"Mon compteur = %d\" % (compteur))\n",
    "    # ma_liste=[1,2,3,4,5,6,7,6,8,9,10]\n",
    "        print(\"Ma valeur = %d \" % (ma_liste[compteur]))\n",
    "    compteur=compteur+1\n",
    "\n",
    "## correction instructeur"
   ]
  },
  {
   "cell_type": "code",
   "execution_count": null,
   "id": "f08fccfa-88e8-4acf-a59e-978ff7ffd17b",
   "metadata": {},
   "outputs": [],
   "source": []
  }
 ],
 "metadata": {
  "kernelspec": {
   "display_name": "Python 3 (ipykernel)",
   "language": "python",
   "name": "python3"
  },
  "language_info": {
   "codemirror_mode": {
    "name": "ipython",
    "version": 3
   },
   "file_extension": ".py",
   "mimetype": "text/x-python",
   "name": "python",
   "nbconvert_exporter": "python",
   "pygments_lexer": "ipython3",
   "version": "3.12.4"
  }
 },
 "nbformat": 4,
 "nbformat_minor": 5
}
