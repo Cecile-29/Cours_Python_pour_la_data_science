{
 "cells": [
  {
   "cell_type": "code",
   "execution_count": 1,
   "id": "c72270e4-ae9d-41bb-bb4e-872e11b4f617",
   "metadata": {},
   "outputs": [
    {
     "data": {
      "text/plain": [
       "[125000,\n",
       " 135000,\n",
       " 145000,\n",
       " 155000,\n",
       " 165000,\n",
       " 175000,\n",
       " 185000,\n",
       " 195000,\n",
       " 205000,\n",
       " 215000,\n",
       " 225000,\n",
       " 235000,\n",
       " 245000,\n",
       " 255000,\n",
       " 265000,\n",
       " 275000,\n",
       " 285000,\n",
       " 295000,\n",
       " 305000,\n",
       " 315000,\n",
       " 325000,\n",
       " 335000,\n",
       " 345000,\n",
       " 355000,\n",
       " 365000,\n",
       " 375000,\n",
       " 385000,\n",
       " 395000,\n",
       " 405000,\n",
       " 415000,\n",
       " 425000,\n",
       " 435000,\n",
       " 445000,\n",
       " 455000,\n",
       " 465000,\n",
       " 475000,\n",
       " 485000,\n",
       " 495000,\n",
       " 505000,\n",
       " 515000,\n",
       " 525000,\n",
       " 535000,\n",
       " 545000,\n",
       " 555000,\n",
       " 565000,\n",
       " 575000,\n",
       " 585000,\n",
       " 595000,\n",
       " 605000,\n",
       " 615000,\n",
       " 625000,\n",
       " 635000,\n",
       " 645000,\n",
       " 655000,\n",
       " 665000,\n",
       " 675000,\n",
       " 685000,\n",
       " 695000]"
      ]
     },
     "execution_count": 1,
     "metadata": {},
     "output_type": "execute_result"
    }
   ],
   "source": [
    "## utilisation de la ft range avec utilisation d'une liste des 58 maisons, elle attaend une valeur de départ, de fin et un pas\n",
    "# en python trois les listes ne se remplissent pas automatiquement avecla ft range il faut utiliser la fonction list\n",
    "\n",
    "prix_de_58_maisons=list(range(125000, 700000, 10000))\n",
    "prix_de_58_maisons"
   ]
  },
  {
   "cell_type": "code",
   "execution_count": 2,
   "id": "001c7c42-387f-4dc0-9bf8-10633c778604",
   "metadata": {},
   "outputs": [
    {
     "data": {
      "text/plain": [
       "58"
      ]
     },
     "execution_count": 2,
     "metadata": {},
     "output_type": "execute_result"
    }
   ],
   "source": [
    "len(prix_de_58_maisons)"
   ]
  },
  {
   "cell_type": "code",
   "execution_count": null,
   "id": "1a78cd7f-f332-43c2-8614-eeff27782f63",
   "metadata": {},
   "outputs": [],
   "source": [
    "prix_de_58_maisons=[]"
   ]
  },
  {
   "cell_type": "code",
   "execution_count": 7,
   "id": "ab868441-2680-4267-a4e6-034e76e927cc",
   "metadata": {},
   "outputs": [
    {
     "ename": "SyntaxError",
     "evalue": "incomplete input (3528024023.py, line 10)",
     "output_type": "error",
     "traceback": [
      "\u001b[1;36m  Cell \u001b[1;32mIn[7], line 10\u001b[1;36m\u001b[0m\n\u001b[1;33m    \u001b[0m\n\u001b[1;37m    ^\u001b[0m\n\u001b[1;31mSyntaxError\u001b[0m\u001b[1;31m:\u001b[0m incomplete input\n"
     ]
    }
   ],
   "source": [
    "## exercice des 58 maisons\n",
    "\n",
    "compteur = 0\n",
    "compteur_resultat_vrai = 0\n",
    "\n",
    "while (compteur < 58):\n",
    "    if prix_de_58_maisons[compteur] >= 300000:\n",
    "    ##   print(\"Mon compteur = %d\" % (compteur))\n",
    "    ## compteur=compteur+1\n",
    "\n"
   ]
  },
  {
   "cell_type": "code",
   "execution_count": 27,
   "id": "76257c42-5b35-4af1-9d50-7ebf6303a1dd",
   "metadata": {},
   "outputs": [
    {
     "ename": "IndentationError",
     "evalue": "expected an indented block after 'if' statement on line 7 (2620407882.py, line 9)",
     "output_type": "error",
     "traceback": [
      "\u001b[1;36m  Cell \u001b[1;32mIn[27], line 9\u001b[1;36m\u001b[0m\n\u001b[1;33m    compteur= compteur+1\u001b[0m\n\u001b[1;37m    ^\u001b[0m\n\u001b[1;31mIndentationError\u001b[0m\u001b[1;31m:\u001b[0m expected an indented block after 'if' statement on line 7\n"
     ]
    }
   ],
   "source": [
    "## exercice des 58 maisons\n",
    "\n",
    "compteur = 0\n",
    "compteur_resultat_vrai = 0\n",
    "\n",
    "for compteur in prix_de_58_maisons:\n",
    "    if compteur >= 300000:\n",
    "        ##print(\"dés la première maison à 300Ke mon compteur a compté  = %d\" % (compteur), \"maison(s) à un prix supérieur ou égal à 300 000 euros\")\n",
    "    compteur= compteur+1\n",
    "     ##   compteur_resultat_vrai=numpy.asarray(prix_de_58_maisons)\n",
    "    ##mes_notes.count(10)\n",
    "    "
   ]
  },
  {
   "cell_type": "code",
   "execution_count": 35,
   "id": "dbac9bb6-2f37-497a-823c-e441a156029d",
   "metadata": {},
   "outputs": [
    {
     "ename": "SyntaxError",
     "evalue": "invalid syntax. Maybe you meant '==' or ':=' instead of '='? (4271807283.py, line 14)",
     "output_type": "error",
     "traceback": [
      "\u001b[1;36m  Cell \u001b[1;32mIn[35], line 14\u001b[1;36m\u001b[0m\n\u001b[1;33m    compteur=compteur+1 and compteur_resultat_vrai=compteur_resultat_vrai+1\u001b[0m\n\u001b[1;37m    ^\u001b[0m\n\u001b[1;31mSyntaxError\u001b[0m\u001b[1;31m:\u001b[0m invalid syntax. Maybe you meant '==' or ':=' instead of '='?\n"
     ]
    }
   ],
   "source": [
    "## exercice des 58 maisons\n",
    "\n",
    "compteur = 0\n",
    "compteur_resultat_vrai = 0\n",
    "\n",
    "for compteur in prix_de_58_maisons:\n",
    "    if compteur >= 300000:\n",
    "\n",
    "        \n",
    "        print(\"dés la première maison à 300Ke mon compteur a compté %d\" % (compteur_resultat_vrai+1) + \"maison(s) à un prix supérieur ou égal à 300 000 euros\")\n",
    "   \n",
    "     ##   compteur_resultat_vrai=numpy.asarray(prix_de_58_maisons)\n",
    "    ##mes_notes.count(10)\n",
    "     \n",
    "       ## print(\"une maison à + d 300ke = %d \" % (prix_de_58_maisons[compteur]))\n",
    "    compteur=compteur+1"
   ]
  },
  {
   "cell_type": "code",
   "execution_count": 36,
   "id": "65bea778-5cf1-4465-8ca8-cfa37ec65e26",
   "metadata": {},
   "outputs": [
    {
     "name": "stdout",
     "output_type": "stream",
     "text": [
      "Le nombre de maison(s) à un prix supérieur ou égal à 300 000 euros est de :  40\n"
     ]
    }
   ],
   "source": [
    "## correction instructeur exercice des 58 maisons\n",
    "\n",
    "\n",
    "## combien de maisons qui ont un prix supérieur à 300 000 euros\n",
    "\n",
    "nombre_maisons=0\n",
    "for prix in prix_de_58_maisons:\n",
    "    if prix >= 300000:\n",
    "        nombre_maisons=nombre_maisons+1\n",
    "print(\"Le nombre de maison(s) à un prix supérieur ou égal à 300 000 euros est de :  %d\" % (nombre_maisons))"
   ]
  },
  {
   "cell_type": "code",
   "execution_count": 38,
   "id": "002196fc-e2ba-42b0-8367-8b31f43a5995",
   "metadata": {},
   "outputs": [
    {
     "name": "stdout",
     "output_type": "stream",
     "text": [
      "Le nombre de maison(s) à un prix compris entre 250 000 euros et 400 000 euros est de :  15\n"
     ]
    }
   ],
   "source": [
    "## combien de maisons qui ont un prix compris entre 250 000 et 400 000 euros.\n",
    "\n",
    "nombre_maisons=0\n",
    "for prix in prix_de_58_maisons:\n",
    "    if prix >= 250000 and prix <= 400000:\n",
    "    # if (prix >= 250000) and (prix <= 400000):\n",
    "        nombre_maisons=nombre_maisons+1\n",
    "print(\"Le nombre de maison(s) à un prix compris entre 250 000 euros et 400 000 euros est de :  %d\" % (nombre_maisons))"
   ]
  },
  {
   "cell_type": "code",
   "execution_count": 42,
   "id": "569a13af-a13c-42dc-97cf-ba2f0b03c901",
   "metadata": {},
   "outputs": [
    {
     "name": "stdout",
     "output_type": "stream",
     "text": [
      "Le nombre de maison(s) qui ont un prix qui n’est pas supérieur à 600000 euros est de :  48\n"
     ]
    }
   ],
   "source": [
    "## Combien de maisons ont un prix qui n’est pas supérieur à 600000 euros ?\n",
    "\n",
    "nombre_maisons=0\n",
    "for prix in prix_de_58_maisons:\n",
    "    # if prix < 600000: avec not ligne en dessous\n",
    "    if not (prix > 600000):\n",
    "        nombre_maisons=nombre_maisons+1\n",
    "print(\"Le nombre de maison(s) qui ont un prix qui n’est pas supérieur à 600000 euros est de :  %d\" % (nombre_maisons))"
   ]
  },
  {
   "cell_type": "code",
   "execution_count": 41,
   "id": "371b25d1-d410-4c1e-a946-b2bd903105ef",
   "metadata": {},
   "outputs": [
    {
     "name": "stdout",
     "output_type": "stream",
     "text": [
      "Le nombre de maison(s) qui ont un prix inférieur à 150000 euros ou supérieur à 650000 euros est de :  8\n"
     ]
    }
   ],
   "source": [
    "## Combien de maisons ont un prix inférieur à 150000 euros ou supérieur à 650000 euros ?\n",
    "\n",
    "nombre_maisons=0\n",
    "for prix in prix_de_58_maisons:\n",
    "    if (prix < 150000) or (prix > 650000):\n",
    "        nombre_maisons=nombre_maisons+1\n",
    "print(\"Le nombre de maison(s) qui ont un prix inférieur à 150000 euros ou supérieur à 650000 euros est de :  %d\" % (nombre_maisons))\n"
   ]
  },
  {
   "cell_type": "code",
   "execution_count": null,
   "id": "b42ce5a9-9a43-4ebc-9fe0-3001303685f5",
   "metadata": {},
   "outputs": [],
   "source": []
  }
 ],
 "metadata": {
  "kernelspec": {
   "display_name": "Python 3 (ipykernel)",
   "language": "python",
   "name": "python3"
  },
  "language_info": {
   "codemirror_mode": {
    "name": "ipython",
    "version": 3
   },
   "file_extension": ".py",
   "mimetype": "text/x-python",
   "name": "python",
   "nbconvert_exporter": "python",
   "pygments_lexer": "ipython3",
   "version": "3.12.4"
  }
 },
 "nbformat": 4,
 "nbformat_minor": 5
}
