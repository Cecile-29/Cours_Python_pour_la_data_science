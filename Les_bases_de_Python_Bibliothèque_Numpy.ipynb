{
 "cells": [
  {
   "cell_type": "code",
   "execution_count": 2,
   "id": "19d9d9fd-5413-4d16-9810-272f46628656",
   "metadata": {},
   "outputs": [],
   "source": [
    "import numpy as np"
   ]
  },
  {
   "cell_type": "code",
   "execution_count": 4,
   "id": "7df32c64-a946-4639-b262-d543d9c35ca9",
   "metadata": {},
   "outputs": [],
   "source": [
    "# on ne mélange pas les types de données dans les np arrays\n",
    "notre_tableau=np.array([1,2,3,4,5,6,7,8,9,10,11,12,13,14,15,16,17,18,19,20])"
   ]
  },
  {
   "cell_type": "code",
   "execution_count": 5,
   "id": "5347b1f8-6635-48cc-a08f-7b5ea4c751db",
   "metadata": {},
   "outputs": [
    {
     "data": {
      "text/plain": [
       "array([ 1,  2,  3,  4,  5,  6,  7,  8,  9, 10, 11, 12, 13, 14, 15, 16, 17,\n",
       "       18, 19, 20])"
      ]
     },
     "execution_count": 5,
     "metadata": {},
     "output_type": "execute_result"
    }
   ],
   "source": [
    "notre_tableau"
   ]
  },
  {
   "cell_type": "code",
   "execution_count": 8,
   "id": "f968b596-b57d-4c33-9395-62d033a6db73",
   "metadata": {},
   "outputs": [
    {
     "data": {
      "text/plain": [
       "array([[1, 2, 3],\n",
       "       [4, 5, 6],\n",
       "       [7, 8, 9]])"
      ]
     },
     "execution_count": 8,
     "metadata": {},
     "output_type": "execute_result"
    }
   ],
   "source": [
    "mon_array_bidimensionnel=np.array([[1,2,3],[4,5,6],[7,8,9]])\n",
    "mon_array_bidimensionnel"
   ]
  },
  {
   "cell_type": "code",
   "execution_count": 9,
   "id": "f8278eda-3914-4cba-8416-ff27b806268b",
   "metadata": {},
   "outputs": [],
   "source": [
    "sous_tableau=notre_tableau[0:5]\n",
    "# slicing qui s'arrête une case avant [0:5]"
   ]
  },
  {
   "cell_type": "code",
   "execution_count": 11,
   "id": "8cc798be-fd4f-47c0-abe8-bf5f5b3165fd",
   "metadata": {},
   "outputs": [
    {
     "data": {
      "text/plain": [
       "array([10,  2,  3,  4,  5])"
      ]
     },
     "execution_count": 11,
     "metadata": {},
     "output_type": "execute_result"
    }
   ],
   "source": [
    "sous_tableau[0]=10\n",
    "sous_tableau"
   ]
  },
  {
   "cell_type": "code",
   "execution_count": 12,
   "id": "f1c6245b-d4f2-43b9-b83a-036f505762a2",
   "metadata": {},
   "outputs": [
    {
     "data": {
      "text/plain": [
       "array([10,  2,  3,  4,  5,  6,  7,  8,  9, 10, 11, 12, 13, 14, 15, 16, 17,\n",
       "       18, 19, 20])"
      ]
     },
     "execution_count": 12,
     "metadata": {},
     "output_type": "execute_result"
    }
   ],
   "source": [
    "notre_tableau\n",
    "# pourquoi le sous tableau modifie - t- il le grand tableau \n",
    "# tout simplement parce que numpy est fait pour que les petits tableaux soient répercutables sur le grand tableau\n",
    "# ce sont les notions de vues et copies d'un tableau --> travailler dans un sous-ensemble de tableau"
   ]
  },
  {
   "cell_type": "code",
   "execution_count": 13,
   "id": "31f5a752-d8f4-422f-8cac-0d049f7af30a",
   "metadata": {},
   "outputs": [
    {
     "data": {
      "text/plain": [
       "array([ 1,  2,  3,  4,  5,  6,  7,  8,  9, 10, 11, 12, 13, 14, 15, 16, 17,\n",
       "       18, 19, 20])"
      ]
     },
     "execution_count": 13,
     "metadata": {},
     "output_type": "execute_result"
    }
   ],
   "source": [
    "notre_tableau=np.array([1,2,3,4,5,6,7,8,9,10,11,12,13,14,15,16,17,18,19,20])\n",
    "notre_tableau"
   ]
  },
  {
   "cell_type": "code",
   "execution_count": 15,
   "id": "0d08d6b8-5748-4a62-9634-997d744e5a78",
   "metadata": {},
   "outputs": [
    {
     "data": {
      "text/plain": [
       "array([1, 2, 3, 4, 5])"
      ]
     },
     "execution_count": 15,
     "metadata": {},
     "output_type": "execute_result"
    }
   ],
   "source": [
    "sous_tableau=notre_tableau[0:5].copy()\n",
    "notre_tableau[0:5]"
   ]
  },
  {
   "cell_type": "code",
   "execution_count": 17,
   "id": "4c3eb941-8379-486f-808b-996c8c8b4354",
   "metadata": {},
   "outputs": [
    {
     "data": {
      "text/plain": [
       "array([10,  2,  3,  4,  5])"
      ]
     },
     "execution_count": 17,
     "metadata": {},
     "output_type": "execute_result"
    }
   ],
   "source": [
    "sous_tableau[0]=10\n",
    "sous_tableau"
   ]
  },
  {
   "cell_type": "code",
   "execution_count": 18,
   "id": "5d8ab144-b98a-43fc-87e1-e1223418465b",
   "metadata": {},
   "outputs": [
    {
     "data": {
      "text/plain": [
       "array([ 1,  2,  3,  4,  5,  6,  7,  8,  9, 10, 11, 12, 13, 14, 15, 16, 17,\n",
       "       18, 19, 20])"
      ]
     },
     "execution_count": 18,
     "metadata": {},
     "output_type": "execute_result"
    }
   ],
   "source": [
    "notre_tableau\n",
    "# avec la sauvegarde dans sous_tableau=notre_tableau[0:5].copy() le grand tbleau ne s'en voit pas modifié"
   ]
  },
  {
   "cell_type": "code",
   "execution_count": 19,
   "id": "8cdebe53-7663-42bb-8c18-3dbbb7a786fd",
   "metadata": {},
   "outputs": [],
   "source": [
    "# accèder aux éléments d'un array \n",
    "mon_array_bidimensionnel=np.array([[1,2,3],[4,5,6],[7,8,9]])"
   ]
  },
  {
   "cell_type": "code",
   "execution_count": 20,
   "id": "cf9f0e42-43eb-4c70-9a63-04734a9c84bd",
   "metadata": {},
   "outputs": [
    {
     "data": {
      "text/plain": [
       "array([[1, 2, 3],\n",
       "       [4, 5, 6],\n",
       "       [7, 8, 9]])"
      ]
     },
     "execution_count": 20,
     "metadata": {},
     "output_type": "execute_result"
    }
   ],
   "source": [
    "mon_array_bidimensionnel"
   ]
  },
  {
   "cell_type": "code",
   "execution_count": 22,
   "id": "3e77a504-5bdd-4c18-a967-51c758402230",
   "metadata": {},
   "outputs": [
    {
     "data": {
      "text/plain": [
       "6"
      ]
     },
     "execution_count": 22,
     "metadata": {},
     "output_type": "execute_result"
    }
   ],
   "source": [
    "mon_array_bidimensionnel[1,2]\n",
    "# crochet pour atteindre les index des arrays en deux dimensions"
   ]
  },
  {
   "cell_type": "code",
   "execution_count": 28,
   "id": "b3b481dc-e525-4575-929e-144c4fe03d45",
   "metadata": {},
   "outputs": [
    {
     "data": {
      "text/plain": [
       "6"
      ]
     },
     "execution_count": 28,
     "metadata": {},
     "output_type": "execute_result"
    }
   ],
   "source": [
    "mon_array_bidimensionnel[1,-1]"
   ]
  },
  {
   "cell_type": "code",
   "execution_count": 25,
   "id": "257c8387-4932-4da4-9ab8-551128d72031",
   "metadata": {},
   "outputs": [
    {
     "data": {
      "text/plain": [
       "array([1, 4, 7])"
      ]
     },
     "execution_count": 25,
     "metadata": {},
     "output_type": "execute_result"
    }
   ],
   "source": [
    "# accèder aux éléments d'un array AVEC slicing\n",
    "mon_array_bidimensionnel[:,0]"
   ]
  },
  {
   "cell_type": "code",
   "execution_count": 24,
   "id": "e8de51b5-efd4-49e7-b46b-23500c0e2a7f",
   "metadata": {},
   "outputs": [
    {
     "data": {
      "text/plain": [
       "array([1, 2, 3])"
      ]
     },
     "execution_count": 24,
     "metadata": {},
     "output_type": "execute_result"
    }
   ],
   "source": [
    "# accèder aux éléments d'un array AVEC slicing\n",
    "mon_array_bidimensionnel[0,:]"
   ]
  },
  {
   "cell_type": "code",
   "execution_count": 33,
   "id": "51ffa44c-4e0c-42c4-8d84-bd96a64408d1",
   "metadata": {},
   "outputs": [
    {
     "data": {
      "text/plain": [
       "array([[1, 3],\n",
       "       [4, 6],\n",
       "       [7, 9]])"
      ]
     },
     "execution_count": 33,
     "metadata": {},
     "output_type": "execute_result"
    }
   ],
   "source": [
    "mon_array_bidimensionnel[:,0:3:2]"
   ]
  },
  {
   "cell_type": "code",
   "execution_count": 34,
   "id": "e71eb2fd-0fd3-4a02-83fa-30a11856adaa",
   "metadata": {},
   "outputs": [
    {
     "data": {
      "text/plain": [
       "array([3, 6, 9])"
      ]
     },
     "execution_count": 34,
     "metadata": {},
     "output_type": "execute_result"
    }
   ],
   "source": [
    "mon_array_bidimensionnel[:,-1]"
   ]
  },
  {
   "cell_type": "code",
   "execution_count": 35,
   "id": "a6f7f787-1de6-4e39-b35f-a89587bf4f44",
   "metadata": {},
   "outputs": [
    {
     "data": {
      "text/plain": [
       "array([[2],\n",
       "       [5],\n",
       "       [8]])"
      ]
     },
     "execution_count": 35,
     "metadata": {},
     "output_type": "execute_result"
    }
   ],
   "source": [
    "mon_array_bidimensionnel[:,1:-1]"
   ]
  },
  {
   "cell_type": "code",
   "execution_count": 36,
   "id": "57c2b3cb-14cd-4681-bb7c-c5f586bc3e7a",
   "metadata": {},
   "outputs": [
    {
     "data": {
      "text/plain": [
       "array([8])"
      ]
     },
     "execution_count": 36,
     "metadata": {},
     "output_type": "execute_result"
    }
   ],
   "source": [
    "mon_array_bidimensionnel[2,1:-1]"
   ]
  },
  {
   "cell_type": "code",
   "execution_count": 39,
   "id": "5ae54142-f8a2-4bc8-a7b9-8da059cf207e",
   "metadata": {},
   "outputs": [
    {
     "data": {
      "text/plain": [
       "array([[96, 35, 45, 25],\n",
       "       [28, 66, 34, 75],\n",
       "       [45,  7, 45, 65],\n",
       "       [59, 93, 56, 45],\n",
       "       [47, 74, 30, 57],\n",
       "       [51, 96, 68, 75]])"
      ]
     },
     "execution_count": 39,
     "metadata": {},
     "output_type": "execute_result"
    }
   ],
   "source": [
    "# fonction pour créer array bidimensionnel avec numpy et la ft randint() qui veut dire random integer\n",
    "# numpy fonctionne en sous-dossiers par ex randint() est rangée dans un sous-dossier de numpy -->> random\n",
    "\n",
    "array=np.random.randint(100, size=(6,4)) # valeur comprise entre 0 et 100, 6 lignes quatres colonnes.\n",
    "array"
   ]
  },
  {
   "cell_type": "code",
   "execution_count": 41,
   "id": "a478c9a9-e8fa-41a4-bfa7-da8ca4b3075c",
   "metadata": {},
   "outputs": [
    {
     "data": {
      "text/plain": [
       "2"
      ]
     },
     "execution_count": 41,
     "metadata": {},
     "output_type": "execute_result"
    }
   ],
   "source": [
    "# il ya des méthodes et des attributs spécifiques aux arrays comme ndarray.ndim ndim pour dimension\n",
    "array.ndim"
   ]
  },
  {
   "cell_type": "code",
   "execution_count": 46,
   "id": "f81e2c04-7af6-49ed-9892-b02200e96c4b",
   "metadata": {},
   "outputs": [
    {
     "data": {
      "text/plain": [
       "(6, 4)"
      ]
     },
     "execution_count": 46,
     "metadata": {},
     "output_type": "execute_result"
    }
   ],
   "source": [
    "array.shape # autres attributs ref documentation"
   ]
  },
  {
   "cell_type": "code",
   "execution_count": 47,
   "id": "d84a9eb0-732c-43a5-bb14-9db8931f280c",
   "metadata": {},
   "outputs": [
    {
     "data": {
      "text/plain": [
       "dtype('int32')"
      ]
     },
     "execution_count": 47,
     "metadata": {},
     "output_type": "execute_result"
    }
   ],
   "source": [
    "array.dtype"
   ]
  },
  {
   "cell_type": "code",
   "execution_count": 48,
   "id": "51329170-01ff-421f-9d4b-bb65f449124d",
   "metadata": {},
   "outputs": [
    {
     "data": {
      "text/plain": [
       "24"
      ]
     },
     "execution_count": 48,
     "metadata": {},
     "output_type": "execute_result"
    }
   ],
   "source": [
    "array.size"
   ]
  },
  {
   "cell_type": "code",
   "execution_count": 49,
   "id": "ccef386a-c337-49a9-9364-12f2b29b4b40",
   "metadata": {},
   "outputs": [
    {
     "data": {
      "text/plain": [
       "array([96, 66, 75, 65, 59, 93, 56, 74, 57, 51, 96, 68, 75])"
      ]
     },
     "execution_count": 49,
     "metadata": {},
     "output_type": "execute_result"
    }
   ],
   "source": [
    "# parcourir les valeurs sans boucle\n",
    "array[array>50]"
   ]
  },
  {
   "cell_type": "code",
   "execution_count": 51,
   "id": "c56b7fcb-4e0a-46ea-8b43-bec419baa6b9",
   "metadata": {},
   "outputs": [
    {
     "data": {
      "text/plain": [
       "array([[ True, False, False, False],\n",
       "       [False,  True, False,  True],\n",
       "       [False, False, False,  True],\n",
       "       [ True,  True,  True, False],\n",
       "       [False,  True, False,  True],\n",
       "       [ True,  True,  True,  True]])"
      ]
     },
     "execution_count": 51,
     "metadata": {},
     "output_type": "execute_result"
    }
   ],
   "source": [
    "array>50 # équivaut à faire une boucle et renvoyer  si c'est vrai ou faux"
   ]
  },
  {
   "cell_type": "code",
   "execution_count": 52,
   "id": "849db005-281d-4f61-9876-1d0865225885",
   "metadata": {},
   "outputs": [
    {
     "data": {
      "text/plain": [
       "array([], dtype=int32)"
      ]
     },
     "execution_count": 52,
     "metadata": {},
     "output_type": "execute_result"
    }
   ],
   "source": [
    "array[array==50] # il n'y a pas de valeur 50 dans le tableau"
   ]
  },
  {
   "cell_type": "code",
   "execution_count": 53,
   "id": "89e1e54f-a167-4a3e-b424-a89489df0573",
   "metadata": {},
   "outputs": [
    {
     "data": {
      "text/plain": [
       "array([96, 35, 45, 25, 28, 66, 34, 75, 45,  7, 45, 65, 59, 93, 56, 45, 47,\n",
       "       74, 30, 57, 51, 96, 68, 75])"
      ]
     },
     "execution_count": 53,
     "metadata": {},
     "output_type": "execute_result"
    }
   ],
   "source": [
    "array[array!=50]"
   ]
  },
  {
   "cell_type": "code",
   "execution_count": 54,
   "id": "020ba5fb-47f9-493b-9843-e3dfcd032deb",
   "metadata": {},
   "outputs": [
    {
     "data": {
      "text/plain": [
       "array([35, 45, 34, 45, 45, 59, 56, 45, 47, 30, 57, 51])"
      ]
     },
     "execution_count": 54,
     "metadata": {},
     "output_type": "execute_result"
    }
   ],
   "source": [
    "# & : and\n",
    "# | : or\n",
    "# ternaires en python exemple\n",
    "\n",
    "array[(array >=30) & (array<=60)]"
   ]
  },
  {
   "cell_type": "code",
   "execution_count": 56,
   "id": "0bcf2936-ef3f-4cdd-91c0-2f116c4d263b",
   "metadata": {},
   "outputs": [
    {
     "data": {
      "text/plain": [
       "array([96, 35, 45, 25, 28, 66, 34, 75, 45,  7, 45, 65, 59, 93, 56, 45, 47,\n",
       "       74, 30, 57, 51, 96, 68, 75])"
      ]
     },
     "execution_count": 56,
     "metadata": {},
     "output_type": "execute_result"
    }
   ],
   "source": [
    "array[(array >=30) | (array<=60)]\n",
    "# globalement on n'aura pas de valeur situé entre 30 et 60"
   ]
  },
  {
   "cell_type": "code",
   "execution_count": 57,
   "id": "b72191f6-9a9a-4e52-b783-2300ea9cbbc7",
   "metadata": {},
   "outputs": [],
   "source": [
    "# concaténation avec numpy\n",
    "array1=np.array([[1,2,3],[4,5,6],[7,8,9]])"
   ]
  },
  {
   "cell_type": "code",
   "execution_count": 59,
   "id": "d7484f3b-cc77-4dbb-91c3-24889180195c",
   "metadata": {},
   "outputs": [],
   "source": [
    "array2=np.array([[2,5,6],[9,10,11],[5,6,9]])"
   ]
  },
  {
   "cell_type": "code",
   "execution_count": 61,
   "id": "cc599107-51ed-4c2c-a3b3-cc0f3a7138aa",
   "metadata": {},
   "outputs": [
    {
     "data": {
      "text/plain": [
       "array([[ 1,  2,  3],\n",
       "       [ 4,  5,  6],\n",
       "       [ 7,  8,  9],\n",
       "       [ 2,  5,  6],\n",
       "       [ 9, 10, 11],\n",
       "       [ 5,  6,  9]])"
      ]
     },
     "execution_count": 61,
     "metadata": {},
     "output_type": "execute_result"
    }
   ],
   "source": [
    "np.concatenate([array1,array2])"
   ]
  },
  {
   "cell_type": "code",
   "execution_count": 62,
   "id": "e7e95350-41ae-4d70-a649-985f52c8d8c5",
   "metadata": {},
   "outputs": [],
   "source": [
    "array3=np.array([[4,10,13],[7,14,15],[10,16,84]])"
   ]
  },
  {
   "cell_type": "code",
   "execution_count": 63,
   "id": "6109ab47-9a9a-48ad-b10c-d3d571e1a23e",
   "metadata": {},
   "outputs": [
    {
     "data": {
      "text/plain": [
       "array([[ 1,  2,  3],\n",
       "       [ 4,  5,  6],\n",
       "       [ 7,  8,  9],\n",
       "       [ 2,  5,  6],\n",
       "       [ 9, 10, 11],\n",
       "       [ 5,  6,  9],\n",
       "       [ 4, 10, 13],\n",
       "       [ 7, 14, 15],\n",
       "       [10, 16, 84]])"
      ]
     },
     "execution_count": 63,
     "metadata": {},
     "output_type": "execute_result"
    }
   ],
   "source": [
    "np.concatenate([array1,array2, array3])"
   ]
  },
  {
   "cell_type": "code",
   "execution_count": 65,
   "id": "bcc0ca3f-af4a-40c4-98e4-e41380280e91",
   "metadata": {},
   "outputs": [],
   "source": [
    "# fonction vstack pour empilation verticale et hstack pour empilation horizontale\n",
    "array1=np.array([15,16,47])"
   ]
  },
  {
   "cell_type": "code",
   "execution_count": 67,
   "id": "67a01787-bb7a-4b6b-be8e-2c993a200330",
   "metadata": {},
   "outputs": [
    {
     "data": {
      "text/plain": [
       "array([15, 16, 47])"
      ]
     },
     "execution_count": 67,
     "metadata": {},
     "output_type": "execute_result"
    }
   ],
   "source": [
    "array1"
   ]
  },
  {
   "cell_type": "code",
   "execution_count": 66,
   "id": "20784547-1d43-4a8d-bf2e-01c99943e058",
   "metadata": {},
   "outputs": [],
   "source": [
    "array2=np.array([[1,2,3],[4,5,6],[7,8,9]])"
   ]
  },
  {
   "cell_type": "code",
   "execution_count": 68,
   "id": "5daf9d2b-0d58-4a7b-9b14-f8316a6f8832",
   "metadata": {},
   "outputs": [
    {
     "data": {
      "text/plain": [
       "array([[1, 2, 3],\n",
       "       [4, 5, 6],\n",
       "       [7, 8, 9]])"
      ]
     },
     "execution_count": 68,
     "metadata": {},
     "output_type": "execute_result"
    }
   ],
   "source": [
    "array2"
   ]
  },
  {
   "cell_type": "code",
   "execution_count": 70,
   "id": "b6fd09e6-49f8-4fcc-9081-212aeec95015",
   "metadata": {},
   "outputs": [
    {
     "data": {
      "text/plain": [
       "array([[15, 16, 47],\n",
       "       [ 1,  2,  3],\n",
       "       [ 4,  5,  6],\n",
       "       [ 7,  8,  9]])"
      ]
     },
     "execution_count": 70,
     "metadata": {},
     "output_type": "execute_result"
    }
   ],
   "source": [
    "np.vstack([array1, array2]) # vstack attend une liste\n",
    "# rajoute la valeur de array1 dans un tableau bidimensionel"
   ]
  },
  {
   "cell_type": "code",
   "execution_count": 72,
   "id": "57124f9e-4254-45f5-81df-0db122c1b776",
   "metadata": {},
   "outputs": [
    {
     "data": {
      "text/plain": [
       "array([[15],\n",
       "       [16],\n",
       "       [47]])"
      ]
     },
     "execution_count": 72,
     "metadata": {},
     "output_type": "execute_result"
    }
   ],
   "source": [
    "array1=np.array([[15],[16],[47]])\n",
    "array1"
   ]
  },
  {
   "cell_type": "code",
   "execution_count": 73,
   "id": "a8c03c64-df6a-431e-b61e-ee8fc2b4221d",
   "metadata": {},
   "outputs": [
    {
     "data": {
      "text/plain": [
       "array([[15,  1,  2,  3],\n",
       "       [16,  4,  5,  6],\n",
       "       [47,  7,  8,  9]])"
      ]
     },
     "execution_count": 73,
     "metadata": {},
     "output_type": "execute_result"
    }
   ],
   "source": [
    "np.hstack([array1, array2]) # concatène horizontalement"
   ]
  },
  {
   "cell_type": "code",
   "execution_count": null,
   "id": "eaabc8a0-2726-48a5-8c27-c3d2af444145",
   "metadata": {},
   "outputs": [],
   "source": []
  },
  {
   "cell_type": "code",
   "execution_count": 75,
   "id": "d1a43831-794e-42cf-be71-b11fb0a6a591",
   "metadata": {},
   "outputs": [
    {
     "data": {
      "text/plain": [
       "9"
      ]
     },
     "execution_count": 75,
     "metadata": {},
     "output_type": "execute_result"
    }
   ],
   "source": [
    "# casser un tableau ou splitter\n",
    "array=np.array([15,16,17,12,49,52,12,14,36])\n",
    "len(array)"
   ]
  },
  {
   "cell_type": "code",
   "execution_count": 77,
   "id": "50eb5df8-cef2-4028-9ed4-8cfb808a3194",
   "metadata": {},
   "outputs": [
    {
     "data": {
      "text/plain": [
       "[array([15, 16]), array([17, 12, 49, 52]), array([12, 14, 36])]"
      ]
     },
     "execution_count": 77,
     "metadata": {},
     "output_type": "execute_result"
    }
   ],
   "source": [
    "np.split(array,[2,6])\n",
    "# dans la sortie les point de séparation en trois partie depuis le deuxième index, puis le sixième\n",
    "# point de cassure entre crochet pour déterminer l'index"
   ]
  },
  {
   "cell_type": "code",
   "execution_count": 78,
   "id": "fdfd515f-6d49-43cb-9f45-d70ab5d352c4",
   "metadata": {},
   "outputs": [],
   "source": [
    "# après le split de l'exemple ci-dessus on peut assigner les trois tableaux à trois variable auxquels on peut réappliquer des méthodes\n",
    "array1,array2,array3=np.split(array,[2,6])"
   ]
  },
  {
   "cell_type": "code",
   "execution_count": 79,
   "id": "69ee1e0d-a6bf-472d-84a0-e1ae96aa7080",
   "metadata": {},
   "outputs": [
    {
     "name": "stdout",
     "output_type": "stream",
     "text": [
      "[15 16] [17 12 49 52] [12 14 36]\n"
     ]
    }
   ],
   "source": [
    "print(array1,array2,array3)"
   ]
  },
  {
   "cell_type": "code",
   "execution_count": 82,
   "id": "671dd918-d4ef-4456-82a9-5e821cd387f5",
   "metadata": {},
   "outputs": [],
   "source": [
    "array1,array2,array3,array4=np.split(array,[2,4,6])"
   ]
  },
  {
   "cell_type": "code",
   "execution_count": 83,
   "id": "70421f32-08e1-4247-ac18-b0e8d38cb666",
   "metadata": {},
   "outputs": [
    {
     "name": "stdout",
     "output_type": "stream",
     "text": [
      "[15 16] [17 12] [49 52] [12 14 36]\n"
     ]
    }
   ],
   "source": [
    "print(array1,array2,array3,array4)"
   ]
  },
  {
   "cell_type": "code",
   "execution_count": 84,
   "id": "3a85fae5-ae91-4d93-946e-5fcdcdeed780",
   "metadata": {},
   "outputs": [],
   "source": [
    "############# Abstraction compréhension split "
   ]
  },
  {
   "cell_type": "code",
   "execution_count": 85,
   "id": "482a6ccd-6734-49a9-90dc-d121b2d722c3",
   "metadata": {},
   "outputs": [],
   "source": [
    "# splitter les tableaux en deux dimensions avec vsplit ou hsplit vertical/horizontal\n",
    "array2=np.array([[1,2,3],[4,5,6],[7,8,9]])"
   ]
  },
  {
   "cell_type": "code",
   "execution_count": 90,
   "id": "2cc59bb0-2bc1-4c01-bc04-69fa8e5fe509",
   "metadata": {},
   "outputs": [
    {
     "name": "stdout",
     "output_type": "stream",
     "text": [
      "[[1 2 3]\n",
      " [4 5 6]] [[7 8 9]]\n"
     ]
    }
   ],
   "source": [
    "array1,array1bis=np.vsplit(array2,[2])\n",
    "print(array1,array1bis)\n",
    "# ci-dessous la coupure du tableau est bien verticale [[7 8 9]] crée une nouvelle colonne"
   ]
  },
  {
   "cell_type": "code",
   "execution_count": 89,
   "id": "ef649bd1-4d7f-4d11-8169-289dd4c21b19",
   "metadata": {},
   "outputs": [
    {
     "data": {
      "text/plain": [
       "array([[1, 2, 3],\n",
       "       [4, 5, 6],\n",
       "       [7, 8, 9]])"
      ]
     },
     "execution_count": 89,
     "metadata": {},
     "output_type": "execute_result"
    }
   ],
   "source": [
    "array2"
   ]
  },
  {
   "cell_type": "code",
   "execution_count": 93,
   "id": "c6f42a3f-a707-4974-83bb-d88f988b1feb",
   "metadata": {},
   "outputs": [
    {
     "name": "stdout",
     "output_type": "stream",
     "text": [
      "[[1 2]\n",
      " [4 5]\n",
      " [7 8]] [[3]\n",
      " [6]\n",
      " [9]]\n"
     ]
    }
   ],
   "source": [
    "array1,array1bis=np.hsplit(array2,[2])\n",
    "print(array1,array1bis)\n",
    "# ici il a crée un array splitté au deuximème index -->> index 0 et 1 restent ensembles\n",
    "# l'index 2 sur l'horizon du tableau se sépare en un deuxième array"
   ]
  },
  {
   "cell_type": "code",
   "execution_count": 94,
   "id": "9d304094-530c-4c77-a2cb-974ca9457cca",
   "metadata": {},
   "outputs": [
    {
     "data": {
      "text/plain": [
       "array([[302,  33, 239, 239,  12,  75, 262,   3, 112],\n",
       "       [203, 323,  92, 192,  79,  36,  25, 199, 127],\n",
       "       [130, 211, 218, 136, 153, 145, 126, 289, 287],\n",
       "       [ 32, 130,  19, 264, 285, 313, 110, 185,  77],\n",
       "       [177, 229,  84,  84, 251, 242, 192,  99,  65],\n",
       "       [ 50,   7, 308,  87, 128,  99, 291, 221, 336],\n",
       "       [ 54, 132, 268, 174,  79, 292,  63,   5, 181],\n",
       "       [266,  15, 297, 148, 151,  74, 141, 264, 300],\n",
       "       [159,  69, 117,  86,  71, 321,  89, 242,  57],\n",
       "       [120, 192, 296, 339,  16,  47, 217, 265,  51]])"
      ]
     },
     "execution_count": 94,
     "metadata": {},
     "output_type": "execute_result"
    }
   ],
   "source": [
    "# opérations arithmétiques sur les tableaux\n",
    "array=np.random.randint(350, size=(10,9))\n",
    "array"
   ]
  },
  {
   "cell_type": "code",
   "execution_count": 95,
   "id": "a87cabcd-59b8-42bf-8e58-c75169d81be4",
   "metadata": {},
   "outputs": [
    {
     "data": {
      "text/plain": [
       "array([[304,  35, 241, 241,  14,  77, 264,   5, 114],\n",
       "       [205, 325,  94, 194,  81,  38,  27, 201, 129],\n",
       "       [132, 213, 220, 138, 155, 147, 128, 291, 289],\n",
       "       [ 34, 132,  21, 266, 287, 315, 112, 187,  79],\n",
       "       [179, 231,  86,  86, 253, 244, 194, 101,  67],\n",
       "       [ 52,   9, 310,  89, 130, 101, 293, 223, 338],\n",
       "       [ 56, 134, 270, 176,  81, 294,  65,   7, 183],\n",
       "       [268,  17, 299, 150, 153,  76, 143, 266, 302],\n",
       "       [161,  71, 119,  88,  73, 323,  91, 244,  59],\n",
       "       [122, 194, 298, 341,  18,  49, 219, 267,  53]])"
      ]
     },
     "execution_count": 95,
     "metadata": {},
     "output_type": "execute_result"
    }
   ],
   "source": [
    "# incrémenter toutes les valeurs du tableau ex incrémentation de'un pas de 2\n",
    "array+2"
   ]
  },
  {
   "cell_type": "code",
   "execution_count": 97,
   "id": "13a48a1e-10e9-4771-b7de-d74efeac311c",
   "metadata": {},
   "outputs": [
    {
     "data": {
      "text/plain": [
       "array([[300,  31, 237, 237,  10,  73, 260,   1, 110],\n",
       "       [201, 321,  90, 190,  77,  34,  23, 197, 125],\n",
       "       [128, 209, 216, 134, 151, 143, 124, 287, 285],\n",
       "       [ 30, 128,  17, 262, 283, 311, 108, 183,  75],\n",
       "       [175, 227,  82,  82, 249, 240, 190,  97,  63],\n",
       "       [ 48,   5, 306,  85, 126,  97, 289, 219, 334],\n",
       "       [ 52, 130, 266, 172,  77, 290,  61,   3, 179],\n",
       "       [264,  13, 295, 146, 149,  72, 139, 262, 298],\n",
       "       [157,  67, 115,  84,  69, 319,  87, 240,  55],\n",
       "       [118, 190, 294, 337,  14,  45, 215, 263,  49]])"
      ]
     },
     "execution_count": 97,
     "metadata": {},
     "output_type": "execute_result"
    }
   ],
   "source": [
    "array-2"
   ]
  },
  {
   "cell_type": "code",
   "execution_count": 98,
   "id": "cbf34907-4c1a-43f8-ad1e-5e7e55b66a23",
   "metadata": {},
   "outputs": [
    {
     "data": {
      "text/plain": [
       "array([[3020,  330, 2390, 2390,  120,  750, 2620,   30, 1120],\n",
       "       [2030, 3230,  920, 1920,  790,  360,  250, 1990, 1270],\n",
       "       [1300, 2110, 2180, 1360, 1530, 1450, 1260, 2890, 2870],\n",
       "       [ 320, 1300,  190, 2640, 2850, 3130, 1100, 1850,  770],\n",
       "       [1770, 2290,  840,  840, 2510, 2420, 1920,  990,  650],\n",
       "       [ 500,   70, 3080,  870, 1280,  990, 2910, 2210, 3360],\n",
       "       [ 540, 1320, 2680, 1740,  790, 2920,  630,   50, 1810],\n",
       "       [2660,  150, 2970, 1480, 1510,  740, 1410, 2640, 3000],\n",
       "       [1590,  690, 1170,  860,  710, 3210,  890, 2420,  570],\n",
       "       [1200, 1920, 2960, 3390,  160,  470, 2170, 2650,  510]])"
      ]
     },
     "execution_count": 98,
     "metadata": {},
     "output_type": "execute_result"
    }
   ],
   "source": [
    "array * 10"
   ]
  },
  {
   "cell_type": "code",
   "execution_count": 102,
   "id": "5e802586-9b01-4950-929a-e9181e59c5a7",
   "metadata": {},
   "outputs": [
    {
     "data": {
      "text/plain": [
       "array([3020, 2030, 1300,  320, 1770,  500,  540, 2660, 1590, 1200])"
      ]
     },
     "execution_count": 102,
     "metadata": {},
     "output_type": "execute_result"
    }
   ],
   "source": [
    "# opérations arithmétiques sur une colonne ou ligne en particulier\n",
    "array[:,0] * 10\n",
    "# ici il'sgit bien d'un slice ex sortie ci-dessous"
   ]
  },
  {
   "cell_type": "code",
   "execution_count": 103,
   "id": "7ea98eea-e283-46df-9890-3220e7adf49a",
   "metadata": {},
   "outputs": [
    {
     "data": {
      "text/plain": [
       "array([[151. ,  16.5, 119.5, 119.5,   6. ,  37.5, 131. ,   1.5,  56. ],\n",
       "       [101.5, 161.5,  46. ,  96. ,  39.5,  18. ,  12.5,  99.5,  63.5],\n",
       "       [ 65. , 105.5, 109. ,  68. ,  76.5,  72.5,  63. , 144.5, 143.5],\n",
       "       [ 16. ,  65. ,   9.5, 132. , 142.5, 156.5,  55. ,  92.5,  38.5],\n",
       "       [ 88.5, 114.5,  42. ,  42. , 125.5, 121. ,  96. ,  49.5,  32.5],\n",
       "       [ 25. ,   3.5, 154. ,  43.5,  64. ,  49.5, 145.5, 110.5, 168. ],\n",
       "       [ 27. ,  66. , 134. ,  87. ,  39.5, 146. ,  31.5,   2.5,  90.5],\n",
       "       [133. ,   7.5, 148.5,  74. ,  75.5,  37. ,  70.5, 132. , 150. ],\n",
       "       [ 79.5,  34.5,  58.5,  43. ,  35.5, 160.5,  44.5, 121. ,  28.5],\n",
       "       [ 60. ,  96. , 148. , 169.5,   8. ,  23.5, 108.5, 132.5,  25.5]])"
      ]
     },
     "execution_count": 103,
     "metadata": {},
     "output_type": "execute_result"
    }
   ],
   "source": [
    "array / 2"
   ]
  },
  {
   "cell_type": "code",
   "execution_count": 105,
   "id": "159667f1-d3df-47fd-97ac-27bf6c97f203",
   "metadata": {},
   "outputs": [
    {
     "data": {
      "text/plain": [
       "array([[307,  38, 244, 244,  17,  80, 267,   8, 117],\n",
       "       [208, 328,  97, 197,  84,  41,  30, 204, 132],\n",
       "       [135, 216, 223, 141, 158, 150, 131, 294, 292],\n",
       "       [ 37, 135,  24, 269, 290, 318, 115, 190,  82],\n",
       "       [182, 234,  89,  89, 256, 247, 197, 104,  70],\n",
       "       [ 55,  12, 313,  92, 133, 104, 296, 226, 341],\n",
       "       [ 59, 137, 273, 179,  84, 297,  68,  10, 186],\n",
       "       [271,  20, 302, 153, 156,  79, 146, 269, 305],\n",
       "       [164,  74, 122,  91,  76, 326,  94, 247,  62],\n",
       "       [125, 197, 301, 344,  21,  52, 222, 270,  56]])"
      ]
     },
     "execution_count": 105,
     "metadata": {},
     "output_type": "execute_result"
    }
   ],
   "source": [
    "# numpy a des fonctions avec des opérateurs arithmètiques fiable comme add() etc...\n",
    "np.add(array,5)"
   ]
  },
  {
   "cell_type": "code",
   "execution_count": 107,
   "id": "06728454-a1ba-4363-a40f-4d7b9d2ddf86",
   "metadata": {},
   "outputs": [
    {
     "data": {
      "text/plain": [
       "array([[301,  32, 238, 238,  11,  74, 261,   2, 111],\n",
       "       [202, 322,  91, 191,  78,  35,  24, 198, 126],\n",
       "       [129, 210, 217, 135, 152, 144, 125, 288, 286],\n",
       "       [ 31, 129,  18, 263, 284, 312, 109, 184,  76],\n",
       "       [176, 228,  83,  83, 250, 241, 191,  98,  64],\n",
       "       [ 49,   6, 307,  86, 127,  98, 290, 220, 335],\n",
       "       [ 53, 131, 267, 173,  78, 291,  62,   4, 180],\n",
       "       [265,  14, 296, 147, 150,  73, 140, 263, 299],\n",
       "       [158,  68, 116,  85,  70, 320,  88, 241,  56],\n",
       "       [119, 191, 295, 338,  15,  46, 216, 264,  50]])"
      ]
     },
     "execution_count": 107,
     "metadata": {},
     "output_type": "execute_result"
    }
   ],
   "source": [
    "np.subtract(array,1)"
   ]
  },
  {
   "cell_type": "code",
   "execution_count": 108,
   "id": "71617146-b6a0-4487-8872-0a40388451ad",
   "metadata": {},
   "outputs": [
    {
     "data": {
      "text/plain": [
       "array([[604,  66, 478, 478,  24, 150, 524,   6, 224],\n",
       "       [406, 646, 184, 384, 158,  72,  50, 398, 254],\n",
       "       [260, 422, 436, 272, 306, 290, 252, 578, 574],\n",
       "       [ 64, 260,  38, 528, 570, 626, 220, 370, 154],\n",
       "       [354, 458, 168, 168, 502, 484, 384, 198, 130],\n",
       "       [100,  14, 616, 174, 256, 198, 582, 442, 672],\n",
       "       [108, 264, 536, 348, 158, 584, 126,  10, 362],\n",
       "       [532,  30, 594, 296, 302, 148, 282, 528, 600],\n",
       "       [318, 138, 234, 172, 142, 642, 178, 484, 114],\n",
       "       [240, 384, 592, 678,  32,  94, 434, 530, 102]])"
      ]
     },
     "execution_count": 108,
     "metadata": {},
     "output_type": "execute_result"
    }
   ],
   "source": [
    "np.multiply(array,2)"
   ]
  },
  {
   "cell_type": "code",
   "execution_count": 110,
   "id": "27ec5f9c-de04-4808-8c9b-a0f7cbd15b2d",
   "metadata": {},
   "outputs": [
    {
     "data": {
      "text/plain": [
       "array([[30.2,  3.3, 23.9, 23.9,  1.2,  7.5, 26.2,  0.3, 11.2],\n",
       "       [20.3, 32.3,  9.2, 19.2,  7.9,  3.6,  2.5, 19.9, 12.7],\n",
       "       [13. , 21.1, 21.8, 13.6, 15.3, 14.5, 12.6, 28.9, 28.7],\n",
       "       [ 3.2, 13. ,  1.9, 26.4, 28.5, 31.3, 11. , 18.5,  7.7],\n",
       "       [17.7, 22.9,  8.4,  8.4, 25.1, 24.2, 19.2,  9.9,  6.5],\n",
       "       [ 5. ,  0.7, 30.8,  8.7, 12.8,  9.9, 29.1, 22.1, 33.6],\n",
       "       [ 5.4, 13.2, 26.8, 17.4,  7.9, 29.2,  6.3,  0.5, 18.1],\n",
       "       [26.6,  1.5, 29.7, 14.8, 15.1,  7.4, 14.1, 26.4, 30. ],\n",
       "       [15.9,  6.9, 11.7,  8.6,  7.1, 32.1,  8.9, 24.2,  5.7],\n",
       "       [12. , 19.2, 29.6, 33.9,  1.6,  4.7, 21.7, 26.5,  5.1]])"
      ]
     },
     "execution_count": 110,
     "metadata": {},
     "output_type": "execute_result"
    }
   ],
   "source": [
    "np.divide(array,10)"
   ]
  },
  {
   "cell_type": "code",
   "execution_count": 111,
   "id": "42b8f94e-8c4a-46e8-baee-3ef1c632b567",
   "metadata": {},
   "outputs": [
    {
     "data": {
      "text/plain": [
       "158.56666666666666"
      ]
     },
     "execution_count": 111,
     "metadata": {},
     "output_type": "execute_result"
    }
   ],
   "source": [
    "# les méthodes mean et sum peuvent être appliquer aux nd arrays\n",
    "np.mean(array)"
   ]
  },
  {
   "cell_type": "code",
   "execution_count": 112,
   "id": "504ab166-9fbf-417f-b694-48dbe989cefe",
   "metadata": {},
   "outputs": [
    {
     "data": {
      "text/plain": [
       "<function ndarray.mean>"
      ]
     },
     "execution_count": 112,
     "metadata": {},
     "output_type": "execute_result"
    }
   ],
   "source": [
    "array.mean\n",
    "# ici méthode spécifique des ndarray"
   ]
  },
  {
   "cell_type": "code",
   "execution_count": 113,
   "id": "7b19dee9-b879-4166-9d74-c09fa97ca129",
   "metadata": {},
   "outputs": [
    {
     "data": {
      "text/plain": [
       "<function ndarray.min>"
      ]
     },
     "execution_count": 113,
     "metadata": {},
     "output_type": "execute_result"
    }
   ],
   "source": [
    "array.min"
   ]
  },
  {
   "cell_type": "code",
   "execution_count": 114,
   "id": "f6712b2c-247e-42a7-a54d-21e076d5e479",
   "metadata": {},
   "outputs": [
    {
     "data": {
      "text/plain": [
       "3"
      ]
     },
     "execution_count": 114,
     "metadata": {},
     "output_type": "execute_result"
    }
   ],
   "source": [
    "array.min()"
   ]
  },
  {
   "cell_type": "code",
   "execution_count": 115,
   "id": "02bf7228-d3ab-4902-acc4-c21109f83e64",
   "metadata": {},
   "outputs": [
    {
     "data": {
      "text/plain": [
       "339"
      ]
     },
     "execution_count": 115,
     "metadata": {},
     "output_type": "execute_result"
    }
   ],
   "source": [
    "array.max()"
   ]
  },
  {
   "cell_type": "code",
   "execution_count": 119,
   "id": "9de01b01-3384-48f1-bee6-fa3259679848",
   "metadata": {},
   "outputs": [
    {
     "data": {
      "text/plain": [
       "array([149.3, 134.1, 193.8, 174.9, 122.5, 164.4, 151.6, 177.2, 159.3])"
      ]
     },
     "execution_count": 119,
     "metadata": {},
     "output_type": "execute_result"
    }
   ],
   "source": [
    "np.mean(array, axis=0)\n",
    "# Calcul de la moyenne par colonne"
   ]
  },
  {
   "cell_type": "code",
   "execution_count": 118,
   "id": "c76f1c60-deed-4f08-afa9-6e6402b27ed6",
   "metadata": {},
   "outputs": [
    {
     "data": {
      "text/plain": [
       "array([141.88888889, 141.77777778, 188.33333333, 157.22222222,\n",
       "       158.11111111, 169.66666667, 138.66666667, 184.        ,\n",
       "       134.55555556, 171.44444444])"
      ]
     },
     "execution_count": 118,
     "metadata": {},
     "output_type": "execute_result"
    }
   ],
   "source": [
    "np.mean(array, axis=1)\n",
    "# Calcul de la moyenne par ligne"
   ]
  },
  {
   "cell_type": "code",
   "execution_count": null,
   "id": "930695ae-2764-4e0c-8a4f-680c7645650d",
   "metadata": {},
   "outputs": [],
   "source": []
  }
 ],
 "metadata": {
  "kernelspec": {
   "display_name": "Python 3 (ipykernel)",
   "language": "python",
   "name": "python3"
  },
  "language_info": {
   "codemirror_mode": {
    "name": "ipython",
    "version": 3
   },
   "file_extension": ".py",
   "mimetype": "text/x-python",
   "name": "python",
   "nbconvert_exporter": "python",
   "pygments_lexer": "ipython3",
   "version": "3.12.4"
  }
 },
 "nbformat": 4,
 "nbformat_minor": 5
}
