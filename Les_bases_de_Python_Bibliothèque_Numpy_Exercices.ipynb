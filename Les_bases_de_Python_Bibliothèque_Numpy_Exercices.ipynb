{
 "cells": [
  {
   "cell_type": "code",
   "execution_count": 10,
   "id": "c90fd401-b990-4f77-8f0b-80480ea4db7a",
   "metadata": {},
   "outputs": [],
   "source": [
    "# pour lire le fichier Houses.csv il faut créer une variable et utiliser np.genfromtext(\"Chaine de caractère du nom de fichier à lire\") \n",
    "# Houses.csv qui est bien dans le même répertoire de travail que le notesBook  de travail en cours\n",
    "# extension csv  +  np.genfromtext\n",
    "# ce fichier va s'ouvrir dans un nparray avec un délimiteur dont la valeur est une virgule et on lui donne un type de données ici des entiers\n",
    "\n",
    "import numpy as np"
   ]
  },
  {
   "cell_type": "code",
   "execution_count": 11,
   "id": "cd909c68-7bf5-4e47-8911-c1ddc289ec2d",
   "metadata": {},
   "outputs": [],
   "source": [
    "houses = np.genfromtxt(\"Houses.csv\", delimiter=\",\", dtype=int)"
   ]
  },
  {
   "cell_type": "code",
   "execution_count": 14,
   "id": "f878fd53-b488-471c-bb20-e19aad139654",
   "metadata": {},
   "outputs": [
    {
     "data": {
      "text/plain": [
       "array([[212000,   4148,  25264],\n",
       "       [230000,   2501,  11891],\n",
       "       [339000,   4374,  25351],\n",
       "       [289000,   2398,  22215],\n",
       "       [160000,   2536,   9234],\n",
       "       [ 85000,   2368,  13329],\n",
       "       [ 85000,   1264,   8407],\n",
       "       [145000,   1572,  12588],\n",
       "       [164000,   2375,  16204],\n",
       "       [123500,   1161,   9626],\n",
       "       [180000,   1542,   8755],\n",
       "       [159500,   1464,  14636],\n",
       "       [156000,   2240,  21780],\n",
       "       [146500,   1269,  11250],\n",
       "       [101500,    924,   7361],\n",
       "       [109800,    768,  10497],\n",
       "       [182000,   1320,  15768],\n",
       "       [110000,   1845,  12153],\n",
       "       [125000,   1274,  13634],\n",
       "       [ 80000,   1905,  10890]])"
      ]
     },
     "execution_count": 14,
     "metadata": {},
     "output_type": "execute_result"
    }
   ],
   "source": [
    "houses\n",
    "# 20 lignes 3 col --> jeu de données qui contient la vente de 20 maisons dans une city américaine en 2008\n",
    "# prix de vente des maisons dans la col 1, col 2 surface maisons, col 3 taille terrain -->> le tout en dollars et unités de mesure américaine (pied)"
   ]
  },
  {
   "cell_type": "code",
   "execution_count": 26,
   "id": "96362d33-96b7-4480-9cb1-621c81a4c8aa",
   "metadata": {},
   "outputs": [
    {
     "data": {
      "text/plain": [
       "array([[182320.  ,   3567.28,  21727.04],\n",
       "       [197800.  ,   2150.86,  10226.26],\n",
       "       [291540.  ,   3761.64,  21801.86],\n",
       "       [248540.  ,   2062.28,  19104.9 ],\n",
       "       [137600.  ,   2180.96,   7941.24],\n",
       "       [ 73100.  ,   2036.48,  11462.94],\n",
       "       [ 73100.  ,   1087.04,   7230.02],\n",
       "       [124700.  ,   1351.92,  10825.68],\n",
       "       [141040.  ,   2042.5 ,  13935.44],\n",
       "       [106210.  ,    998.46,   8278.36],\n",
       "       [154800.  ,   1326.12,   7529.3 ],\n",
       "       [137170.  ,   1259.04,  12586.96],\n",
       "       [134160.  ,   1926.4 ,  18730.8 ],\n",
       "       [125990.  ,   1091.34,   9675.  ],\n",
       "       [ 87290.  ,    794.64,   6330.46],\n",
       "       [ 94428.  ,    660.48,   9027.42],\n",
       "       [156520.  ,   1135.2 ,  13560.48],\n",
       "       [ 94600.  ,   1586.7 ,  10451.58],\n",
       "       [107500.  ,   1095.64,  11725.24],\n",
       "       [ 68800.  ,   1638.3 ,   9365.4 ]])"
      ]
     },
     "execution_count": 26,
     "metadata": {},
     "output_type": "execute_result"
    }
   ],
   "source": [
    "np.multiply(houses, 0.86)"
   ]
  },
  {
   "cell_type": "code",
   "execution_count": 119,
   "id": "e9668db5-e395-4aac-862e-2244daf83add",
   "metadata": {},
   "outputs": [],
   "source": [
    "#  1 Convertir le prix des maisons en euros, sachant que 1 dollar = 0.86 euros CORRECTION\n",
    "\n",
    "houses[:,0]=houses[:,0] * 0.86"
   ]
  },
  {
   "cell_type": "code",
   "execution_count": 31,
   "id": "f0f0cb86-a249-4961-ba6a-7026737c532d",
   "metadata": {},
   "outputs": [
    {
     "data": {
      "text/plain": [
       "array([182320., 197800., 291540., 248540., 137600.,  73100.,  73100.,\n",
       "       124700., 141040., 106210., 154800., 137170., 134160., 125990.,\n",
       "        87290.,  94428., 156520.,  94600., 107500.,  68800.])"
      ]
     },
     "execution_count": 31,
     "metadata": {},
     "output_type": "execute_result"
    }
   ],
   "source": [
    "#  1 Convertir le prix des maisons en euros, sachant que 1 dollar = 0.86 euros\n",
    "prix_des_maisons_en_euros=np.multiply(houses[:,0], 0.86)\n",
    "prix_des_maisons_en_euros"
   ]
  },
  {
   "cell_type": "code",
   "execution_count": null,
   "id": "f96d7c7c-ebbb-4e9c-a552-0e19cf642146",
   "metadata": {},
   "outputs": [],
   "source": []
  },
  {
   "cell_type": "code",
   "execution_count": 38,
   "id": "23fe8c3e-84e5-44c2-93fe-e5fbcd2a31da",
   "metadata": {},
   "outputs": [
    {
     "data": {
      "text/plain": [
       "array([[190800. ,   3733.2,  22737.6],\n",
       "       [207000. ,   2250.9,  10701.9],\n",
       "       [305100. ,   3936.6,  22815.9],\n",
       "       [260100. ,   2158.2,  19993.5],\n",
       "       [144000. ,   2282.4,   8310.6],\n",
       "       [ 76500. ,   2131.2,  11996.1],\n",
       "       [ 76500. ,   1137.6,   7566.3],\n",
       "       [130500. ,   1414.8,  11329.2],\n",
       "       [147600. ,   2137.5,  14583.6],\n",
       "       [111150. ,   1044.9,   8663.4],\n",
       "       [162000. ,   1387.8,   7879.5],\n",
       "       [143550. ,   1317.6,  13172.4],\n",
       "       [140400. ,   2016. ,  19602. ],\n",
       "       [131850. ,   1142.1,  10125. ],\n",
       "       [ 91350. ,    831.6,   6624.9],\n",
       "       [ 98820. ,    691.2,   9447.3],\n",
       "       [163800. ,   1188. ,  14191.2],\n",
       "       [ 99000. ,   1660.5,  10937.7],\n",
       "       [112500. ,   1146.6,  12270.6],\n",
       "       [ 72000. ,   1714.5,   9801. ]])"
      ]
     },
     "execution_count": 38,
     "metadata": {},
     "output_type": "execute_result"
    }
   ],
   "source": [
    "np.multiply(houses, 0.9)\n",
    "# calcul des aires appliqués faussement aux trois colonnes"
   ]
  },
  {
   "cell_type": "code",
   "execution_count": 120,
   "id": "24232d4b-ffe0-4700-beb6-7f2b8d33c4cc",
   "metadata": {},
   "outputs": [
    {
     "data": {
      "text/plain": [
       "array([[ 3733.2, 22737.6],\n",
       "       [ 2250.9, 10701.9],\n",
       "       [ 3936.6, 22815.9],\n",
       "       [ 2158.2, 19993.5],\n",
       "       [ 2282.4,  8310.6],\n",
       "       [ 2131.2, 11996.1],\n",
       "       [ 1137.6,  7566.3],\n",
       "       [ 1414.8, 11329.2],\n",
       "       [ 2137.5, 14583.6],\n",
       "       [ 1044.9,  8663.4],\n",
       "       [ 1387.8,  7879.5],\n",
       "       [ 1317.6, 13172.4],\n",
       "       [ 2016. , 19602. ],\n",
       "       [ 1142.1, 10125. ],\n",
       "       [  831.6,  6624.9],\n",
       "       [  691.2,  9447.3],\n",
       "       [ 1188. , 14191.2],\n",
       "       [ 1660.5, 10937.7],\n",
       "       [ 1146.6, 12270.6],\n",
       "       [ 1714.5,  9801. ]])"
      ]
     },
     "execution_count": 120,
     "metadata": {},
     "output_type": "execute_result"
    }
   ],
   "source": [
    "# 2 Convertir les pieds carrés en mètres carrés, sachant que 1 pied carré = 0.09 m². \n",
    "surfaces_en_metres_carres=np.multiply(houses[:,1:], 0.9)\n",
    "surfaces_en_metres_carres\n",
    "\n",
    "# CORRECTION houses[:,1]=houses[:,] * 0.09"
   ]
  },
  {
   "cell_type": "code",
   "execution_count": 124,
   "id": "882ee079-c627-498a-8350-8e605e44b4d2",
   "metadata": {},
   "outputs": [],
   "source": [
    "# 3 Combien de maisons ont un terrain de plus de 1000 m²?\n",
    "\n",
    "# ensemble des terrains en mètres carrés \n",
    "surface_des_terrains_en_metres_carres=np.multiply(houses[:,2], 0.9)\n",
    "\n",
    "# CORRECTION len(houses[houses[:,2]>10000])"
   ]
  },
  {
   "cell_type": "code",
   "execution_count": 123,
   "id": "b0269ece-df89-4ff9-9704-bfdc09d1bcbb",
   "metadata": {},
   "outputs": [
    {
     "data": {
      "text/plain": [
       "15"
      ]
     },
     "execution_count": 123,
     "metadata": {},
     "output_type": "execute_result"
    }
   ],
   "source": [
    "len(houses[houses[:,2]>10000])"
   ]
  },
  {
   "cell_type": "code",
   "execution_count": 70,
   "id": "ee3ef1ee-fc15-4930-b03a-bf4fc4fb14f5",
   "metadata": {},
   "outputs": [
    {
     "data": {
      "text/plain": [
       "array([22737.6, 10701.9, 22815.9, 19993.5,  8310.6, 11996.1,  7566.3,\n",
       "       11329.2, 14583.6,  8663.4,  7879.5, 13172.4, 19602. , 10125. ,\n",
       "        6624.9,  9447.3, 14191.2, 10937.7, 12270.6,  9801. ])"
      ]
     },
     "execution_count": 70,
     "metadata": {},
     "output_type": "execute_result"
    }
   ],
   "source": [
    "surface_des_terrains_en_metres_carres"
   ]
  },
  {
   "cell_type": "code",
   "execution_count": 76,
   "id": "92afc4de-1a93-45f5-b49f-874e8163f906",
   "metadata": {},
   "outputs": [
    {
     "data": {
      "text/plain": [
       "array([22737.6, 10701.9, 22815.9, 19993.5, 11996.1, 11329.2, 14583.6,\n",
       "       13172.4, 19602. , 10125. , 14191.2, 10937.7, 12270.6])"
      ]
     },
     "execution_count": 76,
     "metadata": {},
     "output_type": "execute_result"
    }
   ],
   "source": [
    "surface_des_terrains_en_metres_carres[surface_des_terrains_en_metres_carres > 1000]"
   ]
  },
  {
   "cell_type": "code",
   "execution_count": 88,
   "id": "314dec33-9174-4883-9a5d-9d444125b8d4",
   "metadata": {},
   "outputs": [
    {
     "name": "stdout",
     "output_type": "stream",
     "text": [
      "[3182800   39248  280833]\n"
     ]
    }
   ],
   "source": [
    "# 4 Calculer la somme totale obtenue après la vente des 20 maisons.\n",
    "# help(np.sum)\n",
    "somme_3_colonnes=np.sum(houses, axis=0)\n",
    "print(somme_3_colonnes)"
   ]
  },
  {
   "cell_type": "code",
   "execution_count": 90,
   "id": "c5063432-8f62-4304-9e52-4653faa29bf0",
   "metadata": {},
   "outputs": [
    {
     "ename": "TypeError",
     "evalue": "can only concatenate str (not \"numpy.int32\") to str",
     "output_type": "error",
     "traceback": [
      "\u001b[1;31m---------------------------------------------------------------------------\u001b[0m",
      "\u001b[1;31mTypeError\u001b[0m                                 Traceback (most recent call last)",
      "Cell \u001b[1;32mIn[90], line 1\u001b[0m\n\u001b[1;32m----> 1\u001b[0m \u001b[38;5;28mprint\u001b[39m(\u001b[38;5;124m\"\u001b[39m\u001b[38;5;124mla somme des ventes des 20 maisons est de \u001b[39m\u001b[38;5;132;01m%d\u001b[39;00m\u001b[38;5;124m dollars\u001b[39m\u001b[38;5;124m\"\u001b[39m \u001b[38;5;241m+\u001b[39m  (somme_3_colonnes[\u001b[38;5;241m0\u001b[39m]))\n",
      "\u001b[1;31mTypeError\u001b[0m: can only concatenate str (not \"numpy.int32\") to str"
     ]
    }
   ],
   "source": [
    "print(\"la somme des ventes des 20 maisons est de %d dollars\" +  (somme_3_colonnes[0]))"
   ]
  },
  {
   "cell_type": "code",
   "execution_count": 92,
   "id": "d606acc2-6f12-4e09-ab81-5912d60f0a8a",
   "metadata": {},
   "outputs": [
    {
     "name": "stdout",
     "output_type": "stream",
     "text": [
      "la somme des ventes des 20 maisons est de 3182800 dollars. Yees concat réussie !\n"
     ]
    }
   ],
   "source": [
    "print(\"la somme des ventes des 20 maisons est de %d dollars. Yees concat réussie !\" % somme_3_colonnes[0])"
   ]
  },
  {
   "cell_type": "code",
   "execution_count": 132,
   "id": "b49e19df-fc03-4d59-96a7-187377af6a17",
   "metadata": {},
   "outputs": [],
   "source": [
    "# Exemple de tableau NumPy (chaque ligne représente une maison)\n",
    "houses = np.array([\n",
    "    [212000, 4148, 25264],\n",
    "    [230000, 2501, 11891],\n",
    "    [339000, 4374, 25351],\n",
    "    [289000, 2398, 22215],\n",
    "    [160000, 2536, 9234],\n",
    "    [85000, 2368, 13329],\n",
    "    [85000, 1264, 8407],\n",
    "    [145000, 1572, 12588],\n",
    "    [164000, 2375, 16204],\n",
    "    [123500, 1161, 9626],\n",
    "    [180000, 1542, 8755],\n",
    "    [159500, 1464, 14636],\n",
    "    [156000, 2240, 21780],\n",
    "    [146500, 1269, 11250],\n",
    "    [101500, 924, 7361],\n",
    "    [109800, 768, 10497],\n",
    "    [182000, 1320, 15768],\n",
    "    [110000, 1845, 12153],\n",
    "    [125000, 1274, 13634],\n",
    "    [80000, 1905, 10890]\n",
    "])\n"
   ]
  },
  {
   "cell_type": "code",
   "execution_count": 133,
   "id": "20e7a254-7480-47b2-af72-c0bc089b90c3",
   "metadata": {},
   "outputs": [
    {
     "data": {
      "text/plain": [
       "3182800"
      ]
     },
     "execution_count": 133,
     "metadata": {},
     "output_type": "execute_result"
    }
   ],
   "source": [
    "# 4 Calculer la somme totale obtenue après la vente des 20 maisons.\n",
    "# help(np.sum)\n",
    "# CORRECTION\n",
    "\n",
    "np.sum(houses[:,0])"
   ]
  },
  {
   "cell_type": "code",
   "execution_count": 96,
   "id": "99e2773f-893e-4dd9-915f-19af2335c704",
   "metadata": {},
   "outputs": [],
   "source": [
    "# help(np.sort)\n",
    "# help(np.max)"
   ]
  },
  {
   "cell_type": "code",
   "execution_count": 98,
   "id": "7d385a66-3930-4975-903c-1ce8fb25627e",
   "metadata": {},
   "outputs": [
    {
     "data": {
      "text/plain": [
       "339000"
      ]
     },
     "execution_count": 98,
     "metadata": {},
     "output_type": "execute_result"
    }
   ],
   "source": [
    "# valeur maximum dans toutes les dimensions du tableau\n",
    "houses.max()"
   ]
  },
  {
   "cell_type": "code",
   "execution_count": 134,
   "id": "e383009e-dbac-4cf4-b138-dd0be3d29daa",
   "metadata": {},
   "outputs": [
    {
     "name": "stdout",
     "output_type": "stream",
     "text": [
      "La surface du terrain de la maison vendue la plus chère est de : 25351 pieds carrés\n"
     ]
    }
   ],
   "source": [
    "# QUELLE EST LA TAILLE DE LA MAISON VENDUE LA PLUS CHERE\n",
    "# 1. Trouver l'indice de la valeur maximale dans la première colonne (prix)\n",
    "indice_max_colonne_ventes = houses[:, 0].argmax()\n",
    "\n",
    "# 2. Utiliser cet indice pour accéder à la valeur correspondante dans la troisième colonne (surface du terrain)\n",
    "troisieme_colonne_surface_terrains = houses[indice_max_colonne_ventes, 2]\n",
    "\n",
    "# 3. Afficher la surface du terrain de la maison vendue la plus chère\n",
    "print(f\"La surface du terrain de la maison vendue la plus chère est de : {troisieme_colonne_surface_terrains} pieds carrés\")\n"
   ]
  },
  {
   "cell_type": "code",
   "execution_count": 135,
   "id": "d351c9bd-07f3-4aba-bb64-c499f09ac3e2",
   "metadata": {},
   "outputs": [
    {
     "name": "stdout",
     "output_type": "stream",
     "text": [
      "339000\n"
     ]
    }
   ],
   "source": [
    "# QUELLE EST LA TAILLE DE LA MAISON VENDUE LA PLUS CHERE Correction\n",
    "prix_max=np.max(houses[:,0])\n",
    "print(prix_max)"
   ]
  },
  {
   "cell_type": "code",
   "execution_count": 136,
   "id": "216de544-5d35-4636-b617-f805529703ee",
   "metadata": {},
   "outputs": [
    {
     "data": {
      "text/plain": [
       "array([[339000,   4374,  25351]])"
      ]
     },
     "execution_count": 136,
     "metadata": {},
     "output_type": "execute_result"
    }
   ],
   "source": [
    "houses[houses[:,0] == prix_max]"
   ]
  },
  {
   "cell_type": "code",
   "execution_count": 113,
   "id": "50db63c9-34bc-4042-8c5d-fa9a5735acbe",
   "metadata": {},
   "outputs": [
    {
     "data": {
      "text/plain": [
       "[array([[212000,   4148,  25264],\n",
       "        [230000,   2501,  11891]]),\n",
       " array([[339000,   4374,  25351],\n",
       "        [289000,   2398,  22215],\n",
       "        [160000,   2536,   9234],\n",
       "        [ 85000,   2368,  13329]]),\n",
       " array([[ 85000,   1264,   8407],\n",
       "        [145000,   1572,  12588],\n",
       "        [164000,   2375,  16204],\n",
       "        [123500,   1161,   9626],\n",
       "        [180000,   1542,   8755],\n",
       "        [159500,   1464,  14636],\n",
       "        [156000,   2240,  21780],\n",
       "        [146500,   1269,  11250],\n",
       "        [101500,    924,   7361],\n",
       "        [109800,    768,  10497],\n",
       "        [182000,   1320,  15768],\n",
       "        [110000,   1845,  12153],\n",
       "        [125000,   1274,  13634],\n",
       "        [ 80000,   1905,  10890]])]"
      ]
     },
     "execution_count": 113,
     "metadata": {},
     "output_type": "execute_result"
    }
   ],
   "source": [
    "# 6 Juste pour l’exercice, splitter (casser) l’array en trois tableaux, puis les concaténer à nouveau pour obtenir le tableau initial.\n",
    "np.split(houses,[2,6])"
   ]
  },
  {
   "cell_type": "code",
   "execution_count": 138,
   "id": "39804182-7212-4c4b-85cf-a211c4c304a8",
   "metadata": {},
   "outputs": [],
   "source": [
    "# correction split en trois sur la ligne horizontale pour garder les trois colonne\n",
    "prix,taille_maison,taille_terrain=np.hsplit(houses,3)"
   ]
  },
  {
   "cell_type": "code",
   "execution_count": 139,
   "id": "a3ac9606-9c8f-4f60-85ee-08be2f037e28",
   "metadata": {},
   "outputs": [
    {
     "name": "stdout",
     "output_type": "stream",
     "text": [
      "[[212000]\n",
      " [230000]\n",
      " [339000]\n",
      " [289000]\n",
      " [160000]\n",
      " [ 85000]\n",
      " [ 85000]\n",
      " [145000]\n",
      " [164000]\n",
      " [123500]\n",
      " [180000]\n",
      " [159500]\n",
      " [156000]\n",
      " [146500]\n",
      " [101500]\n",
      " [109800]\n",
      " [182000]\n",
      " [110000]\n",
      " [125000]\n",
      " [ 80000]] [[4148]\n",
      " [2501]\n",
      " [4374]\n",
      " [2398]\n",
      " [2536]\n",
      " [2368]\n",
      " [1264]\n",
      " [1572]\n",
      " [2375]\n",
      " [1161]\n",
      " [1542]\n",
      " [1464]\n",
      " [2240]\n",
      " [1269]\n",
      " [ 924]\n",
      " [ 768]\n",
      " [1320]\n",
      " [1845]\n",
      " [1274]\n",
      " [1905]] [[25264]\n",
      " [11891]\n",
      " [25351]\n",
      " [22215]\n",
      " [ 9234]\n",
      " [13329]\n",
      " [ 8407]\n",
      " [12588]\n",
      " [16204]\n",
      " [ 9626]\n",
      " [ 8755]\n",
      " [14636]\n",
      " [21780]\n",
      " [11250]\n",
      " [ 7361]\n",
      " [10497]\n",
      " [15768]\n",
      " [12153]\n",
      " [13634]\n",
      " [10890]]\n"
     ]
    }
   ],
   "source": [
    "print(prix,taille_maison,taille_terrain)"
   ]
  },
  {
   "cell_type": "code",
   "execution_count": 141,
   "id": "10e32601-419f-4970-a266-a0018bfe2e67",
   "metadata": {},
   "outputs": [
    {
     "name": "stdout",
     "output_type": "stream",
     "text": [
      "[[212000   4148  25264]\n",
      " [230000   2501  11891]\n",
      " [339000   4374  25351]\n",
      " [289000   2398  22215]\n",
      " [160000   2536   9234]\n",
      " [ 85000   2368  13329]\n",
      " [ 85000   1264   8407]\n",
      " [145000   1572  12588]\n",
      " [164000   2375  16204]\n",
      " [123500   1161   9626]\n",
      " [180000   1542   8755]\n",
      " [159500   1464  14636]\n",
      " [156000   2240  21780]\n",
      " [146500   1269  11250]\n",
      " [101500    924   7361]\n",
      " [109800    768  10497]\n",
      " [182000   1320  15768]\n",
      " [110000   1845  12153]\n",
      " [125000   1274  13634]\n",
      " [ 80000   1905  10890]]\n"
     ]
    }
   ],
   "source": [
    "# correction concatenation\n",
    "houses_original=np.concatenate([prix,taille_maison,taille_terrain], axis =1 )\n",
    "print(houses_original)"
   ]
  },
  {
   "cell_type": "code",
   "execution_count": 115,
   "id": "be9716bc-fe3c-46c6-adfa-fa76556e52d2",
   "metadata": {},
   "outputs": [
    {
     "data": {
      "text/plain": [
       "array([212000,   4148,  25264, 230000,   2501,  11891, 339000,   4374,\n",
       "        25351, 289000,   2398,  22215, 160000,   2536,   9234,  85000,\n",
       "         2368,  13329,  85000,   1264,   8407, 145000,   1572,  12588,\n",
       "       164000,   2375,  16204, 123500,   1161,   9626, 180000,   1542,\n",
       "         8755, 159500,   1464,  14636, 156000,   2240,  21780, 146500,\n",
       "         1269,  11250, 101500,    924,   7361, 109800,    768,  10497,\n",
       "       182000,   1320,  15768, 110000,   1845,  12153, 125000,   1274,\n",
       "        13634,  80000,   1905,  10890])"
      ]
     },
     "execution_count": 115,
     "metadata": {},
     "output_type": "execute_result"
    }
   ],
   "source": [
    "np.concatenate(houses)"
   ]
  },
  {
   "cell_type": "code",
   "execution_count": null,
   "id": "65d8e35e-01cd-44cb-8841-455e99dc6709",
   "metadata": {},
   "outputs": [],
   "source": []
  }
 ],
 "metadata": {
  "kernelspec": {
   "display_name": "Python 3 (ipykernel)",
   "language": "python",
   "name": "python3"
  },
  "language_info": {
   "codemirror_mode": {
    "name": "ipython",
    "version": 3
   },
   "file_extension": ".py",
   "mimetype": "text/x-python",
   "name": "python",
   "nbconvert_exporter": "python",
   "pygments_lexer": "ipython3",
   "version": "3.12.4"
  }
 },
 "nbformat": 4,
 "nbformat_minor": 5
}
