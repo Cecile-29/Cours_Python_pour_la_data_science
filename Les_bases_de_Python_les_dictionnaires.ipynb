{
 "cells": [
  {
   "cell_type": "code",
   "execution_count": 1,
   "id": "495ed37c-1738-493a-9736-ad1fd16d3dc2",
   "metadata": {},
   "outputs": [],
   "source": [
    "# les dictionnaires ne sont pas triés mais renvoie un esemble de données liées entre elle par un jeu de clés valeur\n",
    "# utilisation des accolades"
   ]
  },
  {
   "cell_type": "code",
   "execution_count": 4,
   "id": "93ab767e-a45c-4701-bd61-91044ef59c5b",
   "metadata": {},
   "outputs": [],
   "source": [
    "mon_dictiontaire={\n",
    "    # marie est la clé 15 et la donnée associé\n",
    "    \"Mary\" : 15,\n",
    "    \"Tom\" : 13,\n",
    "    # on peut mettre des données de nature différente str, integer ou autres.\n",
    "    \"Julie\" : \"Dispensée\",\n",
    "    \"Elise\" : 18,\n",
    "    \"Samy\" : 17,\n",
    "}"
   ]
  },
  {
   "cell_type": "code",
   "execution_count": 5,
   "id": "1408c1fc-4487-4dc1-bd52-7f0982d861cb",
   "metadata": {},
   "outputs": [
    {
     "data": {
      "text/plain": [
       "{'Mary': 15, 'Tom': 13, 'Julie': 'Dispensée', 'Elise': 18, 'Samy': 17}"
      ]
     },
     "execution_count": 5,
     "metadata": {},
     "output_type": "execute_result"
    }
   ],
   "source": [
    "mon_dictiontaire"
   ]
  },
  {
   "cell_type": "code",
   "execution_count": 6,
   "id": "0aa80ccd-481b-4860-a13b-2a1902d64b66",
   "metadata": {},
   "outputs": [
    {
     "data": {
      "text/plain": [
       "17"
      ]
     },
     "execution_count": 6,
     "metadata": {},
     "output_type": "execute_result"
    }
   ],
   "source": [
    "# pour accèder aux éléments du dictionnaire on met entre crochet où est attendue la clé pour renvoyer la valeur\n",
    "mon_dictiontaire[\"Samy\"]"
   ]
  },
  {
   "cell_type": "code",
   "execution_count": 8,
   "id": "a70eb6f7-7030-4a03-822f-d0ff87789ade",
   "metadata": {},
   "outputs": [
    {
     "name": "stdout",
     "output_type": "stream",
     "text": [
      "{'Mary': 15, 'Tom': 13, 'Julie': 'Dispensée', 'Elise': 18, 'Samy': 17, 'Diane': 18}\n"
     ]
    }
   ],
   "source": [
    "# pour ajouter un nouveau couple de clé valeur ex \"Diane\" : 6,\n",
    "mon_dictiontaire[\"Diane\"]=18\n",
    "print(mon_dictiontaire)"
   ]
  },
  {
   "cell_type": "code",
   "execution_count": 9,
   "id": "a3d0b38d-f4ee-4a5d-a178-b1db00ac017d",
   "metadata": {},
   "outputs": [
    {
     "name": "stdout",
     "output_type": "stream",
     "text": [
      "{'Mary': 15, 'Tom': 13, 'Julie': 13, 'Elise': 18, 'Samy': 17, 'Diane': 18}\n"
     ]
    }
   ],
   "source": [
    "# pour changer la valeur d'une clé il suffit de lui réasssigner une nouvelle valeur\n",
    "mon_dictiontaire[\"Julie\"]=13\n",
    "print(mon_dictiontaire)"
   ]
  },
  {
   "cell_type": "code",
   "execution_count": 10,
   "id": "25f2804f-19ba-4eaf-bb77-11f12b7ee14b",
   "metadata": {},
   "outputs": [
    {
     "name": "stdout",
     "output_type": "stream",
     "text": [
      "{'Mary': 15, 'Tom': 13, 'Elise': 18, 'Samy': 17, 'Diane': 18}\n"
     ]
    }
   ],
   "source": [
    "# toutes les clés sont uniques il ne peut y avoir plusieurs \"Samy\" ou autres\n",
    "# pour supprimer une clé\n",
    "del mon_dictiontaire[\"Julie\"]\n",
    "print(mon_dictiontaire)"
   ]
  },
  {
   "cell_type": "code",
   "execution_count": 12,
   "id": "42188efd-eb18-4375-9b5c-ecb7eee91079",
   "metadata": {},
   "outputs": [
    {
     "data": {
      "text/plain": [
       "dict_keys(['Mary', 'Tom', 'Elise', 'Samy', 'Diane'])"
      ]
     },
     "execution_count": 12,
     "metadata": {},
     "output_type": "execute_result"
    }
   ],
   "source": [
    "# parcourir les dictionnaires méthode spécifique keys associée à sa structure de données\n",
    "# elle renvoie l'ensemble des clés du dictionnaire\n",
    "mon_dictiontaire.keys()"
   ]
  },
  {
   "cell_type": "code",
   "execution_count": 14,
   "id": "733e4f7f-96a7-4686-b496-7bbd3a76f3e4",
   "metadata": {},
   "outputs": [
    {
     "data": {
      "text/plain": [
       "dict_values([15, 13, 18, 17, 18])"
      ]
     },
     "execution_count": 14,
     "metadata": {},
     "output_type": "execute_result"
    }
   ],
   "source": [
    "mon_dictiontaire.values()\n",
    "# grace à values on revoie l'ensemble des valeurs du dictionnaires"
   ]
  },
  {
   "cell_type": "code",
   "execution_count": 15,
   "id": "89b0a328-f06e-4496-bf99-6c71e98ce4a1",
   "metadata": {},
   "outputs": [
    {
     "name": "stdout",
     "output_type": "stream",
     "text": [
      "Mary\n",
      "Tom\n",
      "Elise\n",
      "Samy\n",
      "Diane\n"
     ]
    }
   ],
   "source": [
    "for cle in mon_dictiontaire.keys():\n",
    "    print(cle)"
   ]
  },
  {
   "cell_type": "code",
   "execution_count": 16,
   "id": "cbd296b6-0049-43dd-96b1-ab472ce3e2b7",
   "metadata": {},
   "outputs": [
    {
     "name": "stdout",
     "output_type": "stream",
     "text": [
      "15\n",
      "13\n",
      "18\n",
      "17\n",
      "18\n"
     ]
    }
   ],
   "source": [
    "for valeur in mon_dictiontaire.values():\n",
    "    print(valeur)"
   ]
  },
  {
   "cell_type": "code",
   "execution_count": 17,
   "id": "83f078aa-92c2-49bc-9827-37a79aa1035b",
   "metadata": {},
   "outputs": [
    {
     "data": {
      "text/plain": [
       "dict_items([('Mary', 15), ('Tom', 13), ('Elise', 18), ('Samy', 17), ('Diane', 18)])"
      ]
     },
     "execution_count": 17,
     "metadata": {},
     "output_type": "execute_result"
    }
   ],
   "source": [
    "# renvoie une liste qui renvoie des tuples, les tuples sont pratiques pour la multi assignation\n",
    "# tableau en plusieurs dimensions ?\n",
    "mon_dictiontaire.items()"
   ]
  },
  {
   "cell_type": "code",
   "execution_count": 18,
   "id": "eabf21d8-fd1c-43c7-8030-82c833efbf4f",
   "metadata": {},
   "outputs": [
    {
     "name": "stdout",
     "output_type": "stream",
     "text": [
      "Mary 15\n",
      "Tom 13\n",
      "Elise 18\n",
      "Samy 17\n",
      "Diane 18\n"
     ]
    }
   ],
   "source": [
    "# pour parcourir mon dictionnaire par clés et valeurs\n",
    "for cle, valeur in mon_dictiontaire.items():\n",
    "    print(cle, valeur)"
   ]
  },
  {
   "cell_type": "code",
   "execution_count": 19,
   "id": "d6b20336-0413-4eaf-b3ab-b2de70311bdb",
   "metadata": {},
   "outputs": [],
   "source": [
    "########### Exercices Dictionnaires ###########"
   ]
  },
  {
   "cell_type": "code",
   "execution_count": 25,
   "id": "73e206a4-fb0a-42b7-9178-1027b06af0e6",
   "metadata": {},
   "outputs": [],
   "source": [
    "### créer dico\n",
    "\n",
    "notes_eleves={\n",
    "    \"Marie\" : 15, \n",
    "    \"Samuel\" : 17, \n",
    "    \"Gaston\" : 12, \n",
    "    \"Fred\" : 10,\n",
    "    \"Mae\" : 5,\n",
    "    \"Julie\" : 15, \n",
    "    \"Zoe\" : 7,\n",
    "    \"Claire\" : 20, \n",
    "    \"Chloe\" : 8,\n",
    "    \"Julien\" : 14, \n",
    "    \"Gaël\" : 9, \n",
    "    \"Samia\" : 15, \n",
    "    \"Omar\" : 11, \n",
    "    \"Gabriel\" : 16, \n",
    "    \"Manon\" :2\n",
    "}"
   ]
  },
  {
   "cell_type": "code",
   "execution_count": 23,
   "id": "62756721-b4fa-481c-b387-3c22defc3cbc",
   "metadata": {},
   "outputs": [
    {
     "data": {
      "text/plain": [
       "dict_values([15, 17, 12, 10, 5, 15, 7, 20, 8, 14, 9, 15, 11, 16, 2])"
      ]
     },
     "execution_count": 23,
     "metadata": {},
     "output_type": "execute_result"
    }
   ],
   "source": [
    "# avec cette méthode values() une liste sort bien mais dan un objet \"dict_values\" qu'il faut relister avec la méthode list\n",
    "notes_eleves.values()"
   ]
  },
  {
   "cell_type": "code",
   "execution_count": 24,
   "id": "6628bd66-2d60-4d6c-8564-5c6ccc60962b",
   "metadata": {},
   "outputs": [
    {
     "data": {
      "text/plain": [
       "[15, 17, 12, 10, 5, 15, 7, 20, 8, 14, 9, 15, 11, 16, 2]"
      ]
     },
     "execution_count": 24,
     "metadata": {},
     "output_type": "execute_result"
    }
   ],
   "source": [
    "list(notes_eleves.values())"
   ]
  },
  {
   "cell_type": "code",
   "execution_count": 26,
   "id": "f056a6c2-5d9f-4a17-88e9-2d6ed8329070",
   "metadata": {},
   "outputs": [
    {
     "ename": "NameError",
     "evalue": "name 'numpy' is not defined",
     "output_type": "error",
     "traceback": [
      "\u001b[1;31m---------------------------------------------------------------------------\u001b[0m",
      "\u001b[1;31mNameError\u001b[0m                                 Traceback (most recent call last)",
      "Cell \u001b[1;32mIn[26], line 3\u001b[0m\n\u001b[0;32m      1\u001b[0m \u001b[38;5;66;03m# Quelle est la moyenne de la classe\u001b[39;00m\n\u001b[0;32m      2\u001b[0m \u001b[38;5;66;03m# ft mean numpy\u001b[39;00m\n\u001b[1;32m----> 3\u001b[0m help(numpy\u001b[38;5;241m.\u001b[39mmean)\n",
      "\u001b[1;31mNameError\u001b[0m: name 'numpy' is not defined"
     ]
    }
   ],
   "source": [
    "# Quelle est la moyenne de la classe\n",
    "# ft mean numpy\n",
    "help(numpy.mean)"
   ]
  },
  {
   "cell_type": "code",
   "execution_count": 29,
   "id": "6da32677-8e24-46cd-94d3-c5498678b27c",
   "metadata": {},
   "outputs": [],
   "source": [
    "import numpy\n",
    "## help(numpy.mean)"
   ]
  },
  {
   "cell_type": "code",
   "execution_count": 36,
   "id": "03b04aea-801a-4e45-b367-b087ff2236db",
   "metadata": {},
   "outputs": [
    {
     "data": {
      "text/plain": [
       "11.733333333333333"
      ]
     },
     "execution_count": 36,
     "metadata": {},
     "output_type": "execute_result"
    }
   ],
   "source": [
    "array_notes=list(notes_eleves.values())\n",
    "numpy.mean(array_notes)"
   ]
  },
  {
   "cell_type": "code",
   "execution_count": 37,
   "id": "6c558a4c-79eb-4a22-b24c-9f61ba2bc18b",
   "metadata": {},
   "outputs": [
    {
     "data": {
      "text/plain": [
       "['Marie',\n",
       " 'Samuel',\n",
       " 'Gaston',\n",
       " 'Fred',\n",
       " 'Mae',\n",
       " 'Julie',\n",
       " 'Zoe',\n",
       " 'Claire',\n",
       " 'Chloe',\n",
       " 'Julien',\n",
       " 'Gaël',\n",
       " 'Samia',\n",
       " 'Omar',\n",
       " 'Gabriel',\n",
       " 'Manon']"
      ]
     },
     "execution_count": 37,
     "metadata": {},
     "output_type": "execute_result"
    }
   ],
   "source": [
    "# afficher le nombre d'élèves dans la classe \n",
    "list(notes_eleves.keys())"
   ]
  },
  {
   "cell_type": "code",
   "execution_count": 61,
   "id": "74abed3b-256e-4319-8d28-75df4a224b37",
   "metadata": {},
   "outputs": [
    {
     "name": "stdout",
     "output_type": "stream",
     "text": [
      "15\n"
     ]
    }
   ],
   "source": [
    "# nb_eleves=list(notes_eleves.keys())\n",
    " # len(nb_eleves)\n",
    "\n",
    "# correction \n",
    "nb_eleves=len(notes_eleves)\n",
    "print(nb_eleves)"
   ]
  },
  {
   "cell_type": "code",
   "execution_count": 45,
   "id": "03b59673-4e2b-4a8f-a757-e96106eef5f8",
   "metadata": {},
   "outputs": [
    {
     "data": {
      "text/plain": [
       "8"
      ]
     },
     "execution_count": 45,
     "metadata": {},
     "output_type": "execute_result"
    }
   ],
   "source": [
    "# 4. Combien d’élèves ont une note strictement supérieure à la moyenne ?\n",
    "\n",
    "## mes_notes=list(notes_eleves.values())\n",
    "## notes_10_et_plus=numpy.asarray(mes_notes)\n",
    "## len(notes_10_et_plus[notes_10_et_plus>10])\n",
    "\n",
    "array_notes=list(notes_eleves.values())\n",
    "notes_10_et_plus=numpy.asarray(array_notes)\n",
    "len(notes_10_et_plus[notes_10_et_plus > 11.733333333333333])\n"
   ]
  },
  {
   "cell_type": "code",
   "execution_count": 66,
   "id": "5a9d9786-7239-412f-a01e-de9f2eeaf27c",
   "metadata": {},
   "outputs": [
    {
     "name": "stdout",
     "output_type": "stream",
     "text": [
      "Le nombre d'élèves avec une note supérieure à la moyenne générale, note supérieure à 11.73 est de 8 élèves\n"
     ]
    }
   ],
   "source": [
    "# correction\n",
    "moyenne_generale=11.733333333333333\n",
    "eleves_avec_notes_10_et_plus=0\n",
    "for valeur in notes_eleves.values():\n",
    "    if valeur > moyenne_generale:\n",
    "        eleves_avec_notes_10_et_plus=eleves_avec_notes_10_et_plus+1\n",
    "print(\"Le nombre d'élèves avec une note supérieure à la moyenne générale, note supérieure à %.2f est de %d élèves\" % (moyenne_generale, eleves_avec_notes_10_et_plus))\n",
    "        "
   ]
  },
  {
   "cell_type": "code",
   "execution_count": 46,
   "id": "b7e8cf06-4f45-4d77-a3c2-3fef690d233a",
   "metadata": {},
   "outputs": [
    {
     "data": {
      "text/plain": [
       "[('Marie', 15),\n",
       " ('Samuel', 17),\n",
       " ('Gaston', 12),\n",
       " ('Fred', 10),\n",
       " ('Mae', 5),\n",
       " ('Julie', 15),\n",
       " ('Zoe', 7),\n",
       " ('Claire', 20),\n",
       " ('Chloe', 8),\n",
       " ('Julien', 14),\n",
       " ('Gaël', 9),\n",
       " ('Samia', 15),\n",
       " ('Omar', 11),\n",
       " ('Gabriel', 16),\n",
       " ('Manon', 2)]"
      ]
     },
     "execution_count": 46,
     "metadata": {},
     "output_type": "execute_result"
    }
   ],
   "source": [
    "# 5. Quel est le prénom du meilleur élève de la classe ?\n",
    "\n",
    "array_cle_valeur=list(notes_eleves.items())\n",
    "array_cle_valeur"
   ]
  },
  {
   "cell_type": "code",
   "execution_count": 58,
   "id": "a6bec3ba-f0d7-4193-8bb5-4a436bb021d4",
   "metadata": {},
   "outputs": [
    {
     "name": "stdout",
     "output_type": "stream",
     "text": [
      "le meilleur élève est : ['Claire']\n"
     ]
    }
   ],
   "source": [
    "# 5. Quel est le prénom du meilleur élève de la classe ?\n",
    "\n",
    "meilleure_note=max(notes_eleves.values())\n",
    "\n",
    "meilleur_eleve=[key for key in notes_eleves if notes_eleves[key]==meilleure_note]\n",
    "\n",
    "print(\"le meilleur élève est : \" + str(meilleur_eleve))\n",
    "    "
   ]
  },
  {
   "cell_type": "code",
   "execution_count": 68,
   "id": "7f3c98cd-4709-4d0e-adda-8d9cd16d4584",
   "metadata": {},
   "outputs": [
    {
     "name": "stdout",
     "output_type": "stream",
     "text": [
      "Claire\n"
     ]
    }
   ],
   "source": [
    "### Correction 5. Quel est le prénom du meilleur élève de la classe ?\n",
    "\n",
    "meilleure_note=max(notes_eleves.values())\n",
    "\n",
    "for prenom, note in notes_eleves.items():\n",
    "    if note == meilleure_note:\n",
    "        print(prenom)"
   ]
  },
  {
   "cell_type": "code",
   "execution_count": 59,
   "id": "d7adbffe-478c-4f6c-926f-67fcfe876823",
   "metadata": {},
   "outputs": [
    {
     "ename": "TypeError",
     "evalue": "'<' not supported between instances of 'dict_keys' and 'int'",
     "output_type": "error",
     "traceback": [
      "\u001b[1;31m---------------------------------------------------------------------------\u001b[0m",
      "\u001b[1;31mTypeError\u001b[0m                                 Traceback (most recent call last)",
      "Cell \u001b[1;32mIn[59], line 3\u001b[0m\n\u001b[0;32m      1\u001b[0m \u001b[38;5;66;03m# 6. Combien d’élèves ont un prénom avec strictement moins de 4 lettres ?\u001b[39;00m\n\u001b[1;32m----> 3\u001b[0m noms_moins_4_lettres\u001b[38;5;241m=\u001b[39m(notes_eleves\u001b[38;5;241m.\u001b[39mkeys()\u001b[38;5;241m<\u001b[39m\u001b[38;5;241m4\u001b[39m)\n\u001b[0;32m      4\u001b[0m \u001b[38;5;28msum\u001b[39m(noms_moins_4_lettres)\n",
      "\u001b[1;31mTypeError\u001b[0m: '<' not supported between instances of 'dict_keys' and 'int'"
     ]
    }
   ],
   "source": [
    "# 6. Combien d’élèves ont un prénom avec strictement moins de 4 lettres ?\n",
    "compteur_nom_eleves=0\n",
    "noms_moins_4_lettres=(notes_eleves.keys())\n",
    "for compteur in \n",
    "    print(sum(noms_moins_4_lettres) + \" est le nombre d'élèves dont le nom est de moins de qautre lettres.\")"
   ]
  },
  {
   "cell_type": "code",
   "execution_count": 70,
   "id": "72eeab07-9d24-4c8f-99d5-45e76a3c3ebf",
   "metadata": {},
   "outputs": [
    {
     "name": "stdout",
     "output_type": "stream",
     "text": [
      "2\n"
     ]
    }
   ],
   "source": [
    "### correction 6. Combien d’élèves ont un prénom avec strictement moins de 4 lettres ?\n",
    "nombre_eleves=0\n",
    "for prenom in notes_eleves.keys():\n",
    "    if len(prenom) < 4:\n",
    "        nombre_eleves=nombre_eleves+1\n",
    "print(nombre_eleves)\n",
    "        "
   ]
  },
  {
   "cell_type": "code",
   "execution_count": 72,
   "id": "5b45ae7d-3c12-4a0b-a038-9bfffc11eb87",
   "metadata": {},
   "outputs": [
    {
     "name": "stdout",
     "output_type": "stream",
     "text": [
      "Gaston 12\n",
      "Fred 10\n",
      "Claire 20\n",
      "Chloe 8\n",
      "Julien 14\n",
      "Gabriel 16\n",
      "Manon 2\n"
     ]
    }
   ],
   "source": [
    "### correction 7. Afficher le prénom des élèves qui ont une note paire (multiple de 2).\n",
    "\n",
    "for prenom,note in notes_eleves.items():\n",
    "    if note %2 ==0:\n",
    "        print(prenom, note)"
   ]
  },
  {
   "cell_type": "code",
   "execution_count": null,
   "id": "888bd2e3-a397-4796-ae40-0c07a637d86a",
   "metadata": {},
   "outputs": [],
   "source": []
  }
 ],
 "metadata": {
  "kernelspec": {
   "display_name": "Python 3 (ipykernel)",
   "language": "python",
   "name": "python3"
  },
  "language_info": {
   "codemirror_mode": {
    "name": "ipython",
    "version": 3
   },
   "file_extension": ".py",
   "mimetype": "text/x-python",
   "name": "python",
   "nbconvert_exporter": "python",
   "pygments_lexer": "ipython3",
   "version": "3.12.4"
  }
 },
 "nbformat": 4,
 "nbformat_minor": 5
}
